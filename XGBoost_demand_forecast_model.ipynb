{
  "cells": [
    {
      "cell_type": "markdown",
      "metadata": {
        "id": "view-in-github",
        "colab_type": "text"
      },
      "source": [
        "<a href=\"https://colab.research.google.com/github/NyafeuKamdem/loan_prediction_ml/blob/main/XGBoost_demand_forecast_model.ipynb\" target=\"_parent\"><img src=\"https://colab.research.google.com/assets/colab-badge.svg\" alt=\"Open In Colab\"/></a>"
      ]
    },
    {
      "cell_type": "markdown",
      "metadata": {
        "id": "9ObGfC6o4Hec"
      },
      "source": [
        "#**Week2**"
      ]
    },
    {
      "cell_type": "code",
      "execution_count": 1,
      "metadata": {
        "colab": {
          "base_uri": "https://localhost:8080/"
        },
        "collapsed": true,
        "id": "Nm4SlNvZkTZn",
        "outputId": "0af93560-275c-47e9-8118-23a05ffe00f1"
      },
      "outputs": [
        {
          "output_type": "stream",
          "name": "stdout",
          "text": [
            "Collecting darts\n",
            "  Downloading darts-0.37.1-py3-none-any.whl.metadata (60 kB)\n",
            "\u001b[?25l     \u001b[90m━━━━━━━━━━━━━━━━━━━━━━━━━━━━━━━━━━━━━━━━\u001b[0m \u001b[32m0.0/60.4 kB\u001b[0m \u001b[31m?\u001b[0m eta \u001b[36m-:--:--\u001b[0m\r\u001b[2K     \u001b[90m━━━━━━━━━━━━━━━━━━━━━━━━━━━━━━━━━━━━━━━━\u001b[0m \u001b[32m60.4/60.4 kB\u001b[0m \u001b[31m3.9 MB/s\u001b[0m eta \u001b[36m0:00:00\u001b[0m\n",
            "\u001b[?25hRequirement already satisfied: holidays>=0.11.1 in /usr/local/lib/python3.12/dist-packages (from darts) (0.78)\n",
            "Requirement already satisfied: joblib>=0.16.0 in /usr/local/lib/python3.12/dist-packages (from darts) (1.5.1)\n",
            "Requirement already satisfied: matplotlib>=3.3.0 in /usr/local/lib/python3.12/dist-packages (from darts) (3.10.0)\n",
            "Requirement already satisfied: narwhals>=1.25.1 in /usr/local/lib/python3.12/dist-packages (from darts) (2.1.1)\n",
            "Collecting nfoursid>=1.0.0 (from darts)\n",
            "  Downloading nfoursid-1.0.2-py3-none-any.whl.metadata (1.9 kB)\n",
            "Requirement already satisfied: numpy>=1.19.0 in /usr/local/lib/python3.12/dist-packages (from darts) (2.0.2)\n",
            "Requirement already satisfied: pandas>=1.0.5 in /usr/local/lib/python3.12/dist-packages (from darts) (2.2.2)\n",
            "Collecting pyod>=0.9.5 (from darts)\n",
            "  Downloading pyod-2.0.5-py3-none-any.whl.metadata (46 kB)\n",
            "\u001b[2K     \u001b[90m━━━━━━━━━━━━━━━━━━━━━━━━━━━━━━━━━━━━━━━━\u001b[0m \u001b[32m46.3/46.3 kB\u001b[0m \u001b[31m3.2 MB/s\u001b[0m eta \u001b[36m0:00:00\u001b[0m\n",
            "\u001b[?25hRequirement already satisfied: requests>=2.22.0 in /usr/local/lib/python3.12/dist-packages (from darts) (2.32.3)\n",
            "Requirement already satisfied: scikit-learn>=1.6.0 in /usr/local/lib/python3.12/dist-packages (from darts) (1.6.1)\n",
            "Requirement already satisfied: scipy>=1.3.2 in /usr/local/lib/python3.12/dist-packages (from darts) (1.16.1)\n",
            "Requirement already satisfied: shap>=0.40.0 in /usr/local/lib/python3.12/dist-packages (from darts) (0.48.0)\n",
            "Collecting statsforecast>=1.4 (from darts)\n",
            "  Downloading statsforecast-2.0.2-cp312-cp312-manylinux_2_27_x86_64.manylinux_2_28_x86_64.whl.metadata (29 kB)\n",
            "Requirement already satisfied: statsmodels>=0.14.0 in /usr/local/lib/python3.12/dist-packages (from darts) (0.14.5)\n",
            "Requirement already satisfied: tqdm>=4.60.0 in /usr/local/lib/python3.12/dist-packages (from darts) (4.67.1)\n",
            "Requirement already satisfied: typing-extensions in /usr/local/lib/python3.12/dist-packages (from darts) (4.14.1)\n",
            "Requirement already satisfied: xarray>=0.17.0 in /usr/local/lib/python3.12/dist-packages (from darts) (2025.8.0)\n",
            "Requirement already satisfied: xgboost>=2.1.4 in /usr/local/lib/python3.12/dist-packages (from darts) (3.0.4)\n",
            "Collecting pytorch-lightning<2.5.3,>=1.5.0 (from darts)\n",
            "  Downloading pytorch_lightning-2.5.2-py3-none-any.whl.metadata (21 kB)\n",
            "Collecting tensorboardX>=2.1 (from darts)\n",
            "  Downloading tensorboardx-2.6.4-py3-none-any.whl.metadata (6.2 kB)\n",
            "Requirement already satisfied: torch>=1.8.0 in /usr/local/lib/python3.12/dist-packages (from darts) (2.8.0+cu126)\n",
            "Requirement already satisfied: python-dateutil in /usr/local/lib/python3.12/dist-packages (from holidays>=0.11.1->darts) (2.9.0.post0)\n",
            "Requirement already satisfied: contourpy>=1.0.1 in /usr/local/lib/python3.12/dist-packages (from matplotlib>=3.3.0->darts) (1.3.3)\n",
            "Requirement already satisfied: cycler>=0.10 in /usr/local/lib/python3.12/dist-packages (from matplotlib>=3.3.0->darts) (0.12.1)\n",
            "Requirement already satisfied: fonttools>=4.22.0 in /usr/local/lib/python3.12/dist-packages (from matplotlib>=3.3.0->darts) (4.59.1)\n",
            "Requirement already satisfied: kiwisolver>=1.3.1 in /usr/local/lib/python3.12/dist-packages (from matplotlib>=3.3.0->darts) (1.4.9)\n",
            "Requirement already satisfied: packaging>=20.0 in /usr/local/lib/python3.12/dist-packages (from matplotlib>=3.3.0->darts) (25.0)\n",
            "Requirement already satisfied: pillow>=8 in /usr/local/lib/python3.12/dist-packages (from matplotlib>=3.3.0->darts) (11.3.0)\n",
            "Requirement already satisfied: pyparsing>=2.3.1 in /usr/local/lib/python3.12/dist-packages (from matplotlib>=3.3.0->darts) (3.2.3)\n",
            "Requirement already satisfied: pytz>=2020.1 in /usr/local/lib/python3.12/dist-packages (from pandas>=1.0.5->darts) (2025.2)\n",
            "Requirement already satisfied: tzdata>=2022.7 in /usr/local/lib/python3.12/dist-packages (from pandas>=1.0.5->darts) (2025.2)\n",
            "Requirement already satisfied: numba>=0.51 in /usr/local/lib/python3.12/dist-packages (from pyod>=0.9.5->darts) (0.60.0)\n",
            "Requirement already satisfied: PyYAML>=5.4 in /usr/local/lib/python3.12/dist-packages (from pytorch-lightning<2.5.3,>=1.5.0->darts) (6.0.2)\n",
            "Requirement already satisfied: fsspec>=2022.5.0 in /usr/local/lib/python3.12/dist-packages (from fsspec[http]>=2022.5.0->pytorch-lightning<2.5.3,>=1.5.0->darts) (2025.3.0)\n",
            "Collecting torchmetrics>=0.7.0 (from pytorch-lightning<2.5.3,>=1.5.0->darts)\n",
            "  Downloading torchmetrics-1.8.1-py3-none-any.whl.metadata (22 kB)\n",
            "Collecting lightning-utilities>=0.10.0 (from pytorch-lightning<2.5.3,>=1.5.0->darts)\n",
            "  Downloading lightning_utilities-0.15.2-py3-none-any.whl.metadata (5.7 kB)\n",
            "Requirement already satisfied: charset-normalizer<4,>=2 in /usr/local/lib/python3.12/dist-packages (from requests>=2.22.0->darts) (3.4.3)\n",
            "Requirement already satisfied: idna<4,>=2.5 in /usr/local/lib/python3.12/dist-packages (from requests>=2.22.0->darts) (3.10)\n",
            "Requirement already satisfied: urllib3<3,>=1.21.1 in /usr/local/lib/python3.12/dist-packages (from requests>=2.22.0->darts) (2.5.0)\n",
            "Requirement already satisfied: certifi>=2017.4.17 in /usr/local/lib/python3.12/dist-packages (from requests>=2.22.0->darts) (2025.8.3)\n",
            "Requirement already satisfied: threadpoolctl>=3.1.0 in /usr/local/lib/python3.12/dist-packages (from scikit-learn>=1.6.0->darts) (3.6.0)\n",
            "Requirement already satisfied: slicer==0.0.8 in /usr/local/lib/python3.12/dist-packages (from shap>=0.40.0->darts) (0.0.8)\n",
            "Requirement already satisfied: cloudpickle in /usr/local/lib/python3.12/dist-packages (from shap>=0.40.0->darts) (3.1.1)\n",
            "Collecting coreforecast>=0.0.12 (from statsforecast>=1.4->darts)\n",
            "  Downloading coreforecast-0.0.16-cp312-cp312-manylinux_2_17_x86_64.manylinux2014_x86_64.whl.metadata (3.7 kB)\n",
            "Collecting scipy>=1.3.2 (from darts)\n",
            "  Downloading scipy-1.15.3-cp312-cp312-manylinux_2_17_x86_64.manylinux2014_x86_64.whl.metadata (61 kB)\n",
            "\u001b[2K     \u001b[90m━━━━━━━━━━━━━━━━━━━━━━━━━━━━━━━━━━━━━━━━\u001b[0m \u001b[32m62.0/62.0 kB\u001b[0m \u001b[31m3.5 MB/s\u001b[0m eta \u001b[36m0:00:00\u001b[0m\n",
            "\u001b[?25hCollecting fugue>=0.8.1 (from statsforecast>=1.4->darts)\n",
            "  Downloading fugue-0.9.1-py3-none-any.whl.metadata (18 kB)\n",
            "Collecting utilsforecast>=0.1.4 (from statsforecast>=1.4->darts)\n",
            "  Downloading utilsforecast-0.2.12-py3-none-any.whl.metadata (7.6 kB)\n",
            "Requirement already satisfied: patsy>=0.5.6 in /usr/local/lib/python3.12/dist-packages (from statsmodels>=0.14.0->darts) (1.0.1)\n",
            "Requirement already satisfied: protobuf>=3.20 in /usr/local/lib/python3.12/dist-packages (from tensorboardX>=2.1->darts) (5.29.5)\n",
            "Requirement already satisfied: filelock in /usr/local/lib/python3.12/dist-packages (from torch>=1.8.0->darts) (3.19.1)\n",
            "Requirement already satisfied: setuptools in /usr/local/lib/python3.12/dist-packages (from torch>=1.8.0->darts) (75.2.0)\n",
            "Requirement already satisfied: sympy>=1.13.3 in /usr/local/lib/python3.12/dist-packages (from torch>=1.8.0->darts) (1.13.3)\n",
            "Requirement already satisfied: networkx in /usr/local/lib/python3.12/dist-packages (from torch>=1.8.0->darts) (3.5)\n",
            "Requirement already satisfied: jinja2 in /usr/local/lib/python3.12/dist-packages (from torch>=1.8.0->darts) (3.1.6)\n",
            "Requirement already satisfied: nvidia-cuda-nvrtc-cu12==12.6.77 in /usr/local/lib/python3.12/dist-packages (from torch>=1.8.0->darts) (12.6.77)\n",
            "Requirement already satisfied: nvidia-cuda-runtime-cu12==12.6.77 in /usr/local/lib/python3.12/dist-packages (from torch>=1.8.0->darts) (12.6.77)\n",
            "Requirement already satisfied: nvidia-cuda-cupti-cu12==12.6.80 in /usr/local/lib/python3.12/dist-packages (from torch>=1.8.0->darts) (12.6.80)\n",
            "Requirement already satisfied: nvidia-cudnn-cu12==9.10.2.21 in /usr/local/lib/python3.12/dist-packages (from torch>=1.8.0->darts) (9.10.2.21)\n",
            "Requirement already satisfied: nvidia-cublas-cu12==12.6.4.1 in /usr/local/lib/python3.12/dist-packages (from torch>=1.8.0->darts) (12.6.4.1)\n",
            "Requirement already satisfied: nvidia-cufft-cu12==11.3.0.4 in /usr/local/lib/python3.12/dist-packages (from torch>=1.8.0->darts) (11.3.0.4)\n",
            "Requirement already satisfied: nvidia-curand-cu12==10.3.7.77 in /usr/local/lib/python3.12/dist-packages (from torch>=1.8.0->darts) (10.3.7.77)\n",
            "Requirement already satisfied: nvidia-cusolver-cu12==11.7.1.2 in /usr/local/lib/python3.12/dist-packages (from torch>=1.8.0->darts) (11.7.1.2)\n",
            "Requirement already satisfied: nvidia-cusparse-cu12==12.5.4.2 in /usr/local/lib/python3.12/dist-packages (from torch>=1.8.0->darts) (12.5.4.2)\n",
            "Requirement already satisfied: nvidia-cusparselt-cu12==0.7.1 in /usr/local/lib/python3.12/dist-packages (from torch>=1.8.0->darts) (0.7.1)\n",
            "Requirement already satisfied: nvidia-nccl-cu12==2.27.3 in /usr/local/lib/python3.12/dist-packages (from torch>=1.8.0->darts) (2.27.3)\n",
            "Requirement already satisfied: nvidia-nvtx-cu12==12.6.77 in /usr/local/lib/python3.12/dist-packages (from torch>=1.8.0->darts) (12.6.77)\n",
            "Requirement already satisfied: nvidia-nvjitlink-cu12==12.6.85 in /usr/local/lib/python3.12/dist-packages (from torch>=1.8.0->darts) (12.6.85)\n",
            "Requirement already satisfied: nvidia-cufile-cu12==1.11.1.6 in /usr/local/lib/python3.12/dist-packages (from torch>=1.8.0->darts) (1.11.1.6)\n",
            "Requirement already satisfied: triton==3.4.0 in /usr/local/lib/python3.12/dist-packages (from torch>=1.8.0->darts) (3.4.0)\n",
            "Requirement already satisfied: aiohttp!=4.0.0a0,!=4.0.0a1 in /usr/local/lib/python3.12/dist-packages (from fsspec[http]>=2022.5.0->pytorch-lightning<2.5.3,>=1.5.0->darts) (3.12.15)\n",
            "Collecting triad>=0.9.7 (from fugue>=0.8.1->statsforecast>=1.4->darts)\n",
            "  Downloading triad-0.9.8-py3-none-any.whl.metadata (6.3 kB)\n",
            "Collecting adagio>=0.2.4 (from fugue>=0.8.1->statsforecast>=1.4->darts)\n",
            "  Downloading adagio-0.2.6-py3-none-any.whl.metadata (1.8 kB)\n",
            "Requirement already satisfied: llvmlite<0.44,>=0.43.0dev0 in /usr/local/lib/python3.12/dist-packages (from numba>=0.51->pyod>=0.9.5->darts) (0.43.0)\n",
            "Requirement already satisfied: six>=1.5 in /usr/local/lib/python3.12/dist-packages (from python-dateutil->holidays>=0.11.1->darts) (1.17.0)\n",
            "Requirement already satisfied: mpmath<1.4,>=1.1.0 in /usr/local/lib/python3.12/dist-packages (from sympy>=1.13.3->torch>=1.8.0->darts) (1.3.0)\n",
            "Requirement already satisfied: MarkupSafe>=2.0 in /usr/local/lib/python3.12/dist-packages (from jinja2->torch>=1.8.0->darts) (3.0.2)\n",
            "Requirement already satisfied: aiohappyeyeballs>=2.5.0 in /usr/local/lib/python3.12/dist-packages (from aiohttp!=4.0.0a0,!=4.0.0a1->fsspec[http]>=2022.5.0->pytorch-lightning<2.5.3,>=1.5.0->darts) (2.6.1)\n",
            "Requirement already satisfied: aiosignal>=1.4.0 in /usr/local/lib/python3.12/dist-packages (from aiohttp!=4.0.0a0,!=4.0.0a1->fsspec[http]>=2022.5.0->pytorch-lightning<2.5.3,>=1.5.0->darts) (1.4.0)\n",
            "Requirement already satisfied: attrs>=17.3.0 in /usr/local/lib/python3.12/dist-packages (from aiohttp!=4.0.0a0,!=4.0.0a1->fsspec[http]>=2022.5.0->pytorch-lightning<2.5.3,>=1.5.0->darts) (25.3.0)\n",
            "Requirement already satisfied: frozenlist>=1.1.1 in /usr/local/lib/python3.12/dist-packages (from aiohttp!=4.0.0a0,!=4.0.0a1->fsspec[http]>=2022.5.0->pytorch-lightning<2.5.3,>=1.5.0->darts) (1.7.0)\n",
            "Requirement already satisfied: multidict<7.0,>=4.5 in /usr/local/lib/python3.12/dist-packages (from aiohttp!=4.0.0a0,!=4.0.0a1->fsspec[http]>=2022.5.0->pytorch-lightning<2.5.3,>=1.5.0->darts) (6.6.4)\n",
            "Requirement already satisfied: propcache>=0.2.0 in /usr/local/lib/python3.12/dist-packages (from aiohttp!=4.0.0a0,!=4.0.0a1->fsspec[http]>=2022.5.0->pytorch-lightning<2.5.3,>=1.5.0->darts) (0.3.2)\n",
            "Requirement already satisfied: yarl<2.0,>=1.17.0 in /usr/local/lib/python3.12/dist-packages (from aiohttp!=4.0.0a0,!=4.0.0a1->fsspec[http]>=2022.5.0->pytorch-lightning<2.5.3,>=1.5.0->darts) (1.20.1)\n",
            "Requirement already satisfied: pyarrow>=6.0.1 in /usr/local/lib/python3.12/dist-packages (from triad>=0.9.7->fugue>=0.8.1->statsforecast>=1.4->darts) (18.1.0)\n",
            "Collecting fs (from triad>=0.9.7->fugue>=0.8.1->statsforecast>=1.4->darts)\n",
            "  Downloading fs-2.4.16-py2.py3-none-any.whl.metadata (6.3 kB)\n",
            "Collecting appdirs~=1.4.3 (from fs->triad>=0.9.7->fugue>=0.8.1->statsforecast>=1.4->darts)\n",
            "  Downloading appdirs-1.4.4-py2.py3-none-any.whl.metadata (9.0 kB)\n",
            "Downloading darts-0.37.1-py3-none-any.whl (1.1 MB)\n",
            "\u001b[2K   \u001b[90m━━━━━━━━━━━━━━━━━━━━━━━━━━━━━━━━━━━━━━━━\u001b[0m \u001b[32m1.1/1.1 MB\u001b[0m \u001b[31m28.7 MB/s\u001b[0m eta \u001b[36m0:00:00\u001b[0m\n",
            "\u001b[?25hDownloading nfoursid-1.0.2-py3-none-any.whl (18 kB)\n",
            "Downloading pyod-2.0.5-py3-none-any.whl (200 kB)\n",
            "\u001b[2K   \u001b[90m━━━━━━━━━━━━━━━━━━━━━━━━━━━━━━━━━━━━━━━━\u001b[0m \u001b[32m200.6/200.6 kB\u001b[0m \u001b[31m13.5 MB/s\u001b[0m eta \u001b[36m0:00:00\u001b[0m\n",
            "\u001b[?25hDownloading pytorch_lightning-2.5.2-py3-none-any.whl (825 kB)\n",
            "\u001b[2K   \u001b[90m━━━━━━━━━━━━━━━━━━━━━━━━━━━━━━━━━━━━━━━━\u001b[0m \u001b[32m825.4/825.4 kB\u001b[0m \u001b[31m38.1 MB/s\u001b[0m eta \u001b[36m0:00:00\u001b[0m\n",
            "\u001b[?25hDownloading statsforecast-2.0.2-cp312-cp312-manylinux_2_27_x86_64.manylinux_2_28_x86_64.whl (344 kB)\n",
            "\u001b[2K   \u001b[90m━━━━━━━━━━━━━━━━━━━━━━━━━━━━━━━━━━━━━━━━\u001b[0m \u001b[32m344.8/344.8 kB\u001b[0m \u001b[31m20.1 MB/s\u001b[0m eta \u001b[36m0:00:00\u001b[0m\n",
            "\u001b[?25hDownloading scipy-1.15.3-cp312-cp312-manylinux_2_17_x86_64.manylinux2014_x86_64.whl (37.3 MB)\n",
            "\u001b[2K   \u001b[90m━━━━━━━━━━━━━━━━━━━━━━━━━━━━━━━━━━━━━━━━\u001b[0m \u001b[32m37.3/37.3 MB\u001b[0m \u001b[31m41.1 MB/s\u001b[0m eta \u001b[36m0:00:00\u001b[0m\n",
            "\u001b[?25hDownloading tensorboardx-2.6.4-py3-none-any.whl (87 kB)\n",
            "\u001b[2K   \u001b[90m━━━━━━━━━━━━━━━━━━━━━━━━━━━━━━━━━━━━━━━━\u001b[0m \u001b[32m87.2/87.2 kB\u001b[0m \u001b[31m5.9 MB/s\u001b[0m eta \u001b[36m0:00:00\u001b[0m\n",
            "\u001b[?25hDownloading coreforecast-0.0.16-cp312-cp312-manylinux_2_17_x86_64.manylinux2014_x86_64.whl (287 kB)\n",
            "\u001b[2K   \u001b[90m━━━━━━━━━━━━━━━━━━━━━━━━━━━━━━━━━━━━━━━━\u001b[0m \u001b[32m287.4/287.4 kB\u001b[0m \u001b[31m20.7 MB/s\u001b[0m eta \u001b[36m0:00:00\u001b[0m\n",
            "\u001b[?25hDownloading fugue-0.9.1-py3-none-any.whl (278 kB)\n",
            "\u001b[2K   \u001b[90m━━━━━━━━━━━━━━━━━━━━━━━━━━━━━━━━━━━━━━━━\u001b[0m \u001b[32m278.2/278.2 kB\u001b[0m \u001b[31m17.2 MB/s\u001b[0m eta \u001b[36m0:00:00\u001b[0m\n",
            "\u001b[?25hDownloading lightning_utilities-0.15.2-py3-none-any.whl (29 kB)\n",
            "Downloading torchmetrics-1.8.1-py3-none-any.whl (982 kB)\n",
            "\u001b[2K   \u001b[90m━━━━━━━━━━━━━━━━━━━━━━━━━━━━━━━━━━━━━━━━\u001b[0m \u001b[32m983.0/983.0 kB\u001b[0m \u001b[31m43.3 MB/s\u001b[0m eta \u001b[36m0:00:00\u001b[0m\n",
            "\u001b[?25hDownloading utilsforecast-0.2.12-py3-none-any.whl (42 kB)\n",
            "\u001b[2K   \u001b[90m━━━━━━━━━━━━━━━━━━━━━━━━━━━━━━━━━━━━━━━━\u001b[0m \u001b[32m42.2/42.2 kB\u001b[0m \u001b[31m2.7 MB/s\u001b[0m eta \u001b[36m0:00:00\u001b[0m\n",
            "\u001b[?25hDownloading adagio-0.2.6-py3-none-any.whl (19 kB)\n",
            "Downloading triad-0.9.8-py3-none-any.whl (62 kB)\n",
            "\u001b[2K   \u001b[90m━━━━━━━━━━━━━━━━━━━━━━━━━━━━━━━━━━━━━━━━\u001b[0m \u001b[32m62.3/62.3 kB\u001b[0m \u001b[31m4.7 MB/s\u001b[0m eta \u001b[36m0:00:00\u001b[0m\n",
            "\u001b[?25hDownloading fs-2.4.16-py2.py3-none-any.whl (135 kB)\n",
            "\u001b[2K   \u001b[90m━━━━━━━━━━━━━━━━━━━━━━━━━━━━━━━━━━━━━━━━\u001b[0m \u001b[32m135.3/135.3 kB\u001b[0m \u001b[31m10.1 MB/s\u001b[0m eta \u001b[36m0:00:00\u001b[0m\n",
            "\u001b[?25hDownloading appdirs-1.4.4-py2.py3-none-any.whl (9.6 kB)\n",
            "Installing collected packages: appdirs, tensorboardX, scipy, lightning-utilities, fs, coreforecast, utilsforecast, triad, pyod, nfoursid, torchmetrics, adagio, pytorch-lightning, fugue, statsforecast, darts\n",
            "  Attempting uninstall: scipy\n",
            "    Found existing installation: scipy 1.16.1\n",
            "    Uninstalling scipy-1.16.1:\n",
            "      Successfully uninstalled scipy-1.16.1\n",
            "Successfully installed adagio-0.2.6 appdirs-1.4.4 coreforecast-0.0.16 darts-0.37.1 fs-2.4.16 fugue-0.9.1 lightning-utilities-0.15.2 nfoursid-1.0.2 pyod-2.0.5 pytorch-lightning-2.5.2 scipy-1.15.3 statsforecast-2.0.2 tensorboardX-2.6.4 torchmetrics-1.8.1 triad-0.9.8 utilsforecast-0.2.12\n"
          ]
        }
      ],
      "source": [
        "!pip install darts"
      ]
    },
    {
      "cell_type": "code",
      "execution_count": 2,
      "metadata": {
        "colab": {
          "base_uri": "https://localhost:8080/"
        },
        "collapsed": true,
        "id": "9VgORUOZHvWN",
        "outputId": "a17544c3-6eed-499a-de36-a55c6a84482e"
      },
      "outputs": [
        {
          "output_type": "stream",
          "name": "stdout",
          "text": [
            "Collecting mlflow\n",
            "  Downloading mlflow-3.3.0-py3-none-any.whl.metadata (30 kB)\n",
            "Collecting mlflow-skinny==3.3.0 (from mlflow)\n",
            "  Downloading mlflow_skinny-3.3.0-py3-none-any.whl.metadata (31 kB)\n",
            "Collecting mlflow-tracing==3.3.0 (from mlflow)\n",
            "  Downloading mlflow_tracing-3.3.0-py3-none-any.whl.metadata (19 kB)\n",
            "Requirement already satisfied: Flask<4 in /usr/local/lib/python3.12/dist-packages (from mlflow) (3.1.1)\n",
            "Collecting alembic!=1.10.0,<2 (from mlflow)\n",
            "  Downloading alembic-1.16.4-py3-none-any.whl.metadata (7.3 kB)\n",
            "Requirement already satisfied: cryptography<46,>=43.0.0 in /usr/local/lib/python3.12/dist-packages (from mlflow) (43.0.3)\n",
            "Collecting docker<8,>=4.0.0 (from mlflow)\n",
            "  Downloading docker-7.1.0-py3-none-any.whl.metadata (3.8 kB)\n",
            "Collecting graphene<4 (from mlflow)\n",
            "  Downloading graphene-3.4.3-py2.py3-none-any.whl.metadata (6.9 kB)\n",
            "Collecting gunicorn<24 (from mlflow)\n",
            "  Downloading gunicorn-23.0.0-py3-none-any.whl.metadata (4.4 kB)\n",
            "Requirement already satisfied: matplotlib<4 in /usr/local/lib/python3.12/dist-packages (from mlflow) (3.10.0)\n",
            "Requirement already satisfied: numpy<3 in /usr/local/lib/python3.12/dist-packages (from mlflow) (2.0.2)\n",
            "Requirement already satisfied: pandas<3 in /usr/local/lib/python3.12/dist-packages (from mlflow) (2.2.2)\n",
            "Requirement already satisfied: pyarrow<22,>=4.0.0 in /usr/local/lib/python3.12/dist-packages (from mlflow) (18.1.0)\n",
            "Requirement already satisfied: scikit-learn<2 in /usr/local/lib/python3.12/dist-packages (from mlflow) (1.6.1)\n",
            "Requirement already satisfied: scipy<2 in /usr/local/lib/python3.12/dist-packages (from mlflow) (1.15.3)\n",
            "Requirement already satisfied: sqlalchemy<3,>=1.4.0 in /usr/local/lib/python3.12/dist-packages (from mlflow) (2.0.43)\n",
            "Requirement already satisfied: cachetools<7,>=5.0.0 in /usr/local/lib/python3.12/dist-packages (from mlflow-skinny==3.3.0->mlflow) (5.5.2)\n",
            "Requirement already satisfied: click<9,>=7.0 in /usr/local/lib/python3.12/dist-packages (from mlflow-skinny==3.3.0->mlflow) (8.2.1)\n",
            "Requirement already satisfied: cloudpickle<4 in /usr/local/lib/python3.12/dist-packages (from mlflow-skinny==3.3.0->mlflow) (3.1.1)\n",
            "Collecting databricks-sdk<1,>=0.20.0 (from mlflow-skinny==3.3.0->mlflow)\n",
            "  Downloading databricks_sdk-0.63.0-py3-none-any.whl.metadata (39 kB)\n",
            "Requirement already satisfied: fastapi<1 in /usr/local/lib/python3.12/dist-packages (from mlflow-skinny==3.3.0->mlflow) (0.116.1)\n",
            "Requirement already satisfied: gitpython<4,>=3.1.9 in /usr/local/lib/python3.12/dist-packages (from mlflow-skinny==3.3.0->mlflow) (3.1.45)\n",
            "Requirement already satisfied: importlib_metadata!=4.7.0,<9,>=3.7.0 in /usr/local/lib/python3.12/dist-packages (from mlflow-skinny==3.3.0->mlflow) (8.7.0)\n",
            "Collecting opentelemetry-api<3,>=1.9.0 (from mlflow-skinny==3.3.0->mlflow)\n",
            "  Downloading opentelemetry_api-1.36.0-py3-none-any.whl.metadata (1.5 kB)\n",
            "Collecting opentelemetry-sdk<3,>=1.9.0 (from mlflow-skinny==3.3.0->mlflow)\n",
            "  Downloading opentelemetry_sdk-1.36.0-py3-none-any.whl.metadata (1.5 kB)\n",
            "Requirement already satisfied: packaging<26 in /usr/local/lib/python3.12/dist-packages (from mlflow-skinny==3.3.0->mlflow) (25.0)\n",
            "Requirement already satisfied: protobuf<7,>=3.12.0 in /usr/local/lib/python3.12/dist-packages (from mlflow-skinny==3.3.0->mlflow) (5.29.5)\n",
            "Requirement already satisfied: pydantic<3,>=1.10.8 in /usr/local/lib/python3.12/dist-packages (from mlflow-skinny==3.3.0->mlflow) (2.11.7)\n",
            "Requirement already satisfied: pyyaml<7,>=5.1 in /usr/local/lib/python3.12/dist-packages (from mlflow-skinny==3.3.0->mlflow) (6.0.2)\n",
            "Requirement already satisfied: requests<3,>=2.17.3 in /usr/local/lib/python3.12/dist-packages (from mlflow-skinny==3.3.0->mlflow) (2.32.3)\n",
            "Requirement already satisfied: sqlparse<1,>=0.4.0 in /usr/local/lib/python3.12/dist-packages (from mlflow-skinny==3.3.0->mlflow) (0.5.3)\n",
            "Requirement already satisfied: typing-extensions<5,>=4.0.0 in /usr/local/lib/python3.12/dist-packages (from mlflow-skinny==3.3.0->mlflow) (4.14.1)\n",
            "Requirement already satisfied: uvicorn<1 in /usr/local/lib/python3.12/dist-packages (from mlflow-skinny==3.3.0->mlflow) (0.35.0)\n",
            "Requirement already satisfied: Mako in /usr/lib/python3/dist-packages (from alembic!=1.10.0,<2->mlflow) (1.1.3)\n",
            "Requirement already satisfied: cffi>=1.12 in /usr/local/lib/python3.12/dist-packages (from cryptography<46,>=43.0.0->mlflow) (1.17.1)\n",
            "Requirement already satisfied: urllib3>=1.26.0 in /usr/local/lib/python3.12/dist-packages (from docker<8,>=4.0.0->mlflow) (2.5.0)\n",
            "Requirement already satisfied: blinker>=1.9.0 in /usr/local/lib/python3.12/dist-packages (from Flask<4->mlflow) (1.9.0)\n",
            "Requirement already satisfied: itsdangerous>=2.2.0 in /usr/local/lib/python3.12/dist-packages (from Flask<4->mlflow) (2.2.0)\n",
            "Requirement already satisfied: jinja2>=3.1.2 in /usr/local/lib/python3.12/dist-packages (from Flask<4->mlflow) (3.1.6)\n",
            "Requirement already satisfied: markupsafe>=2.1.1 in /usr/local/lib/python3.12/dist-packages (from Flask<4->mlflow) (3.0.2)\n",
            "Requirement already satisfied: werkzeug>=3.1.0 in /usr/local/lib/python3.12/dist-packages (from Flask<4->mlflow) (3.1.3)\n",
            "Collecting graphql-core<3.3,>=3.1 (from graphene<4->mlflow)\n",
            "  Downloading graphql_core-3.2.6-py3-none-any.whl.metadata (11 kB)\n",
            "Collecting graphql-relay<3.3,>=3.1 (from graphene<4->mlflow)\n",
            "  Downloading graphql_relay-3.2.0-py3-none-any.whl.metadata (12 kB)\n",
            "Requirement already satisfied: python-dateutil<3,>=2.7.0 in /usr/local/lib/python3.12/dist-packages (from graphene<4->mlflow) (2.9.0.post0)\n",
            "Requirement already satisfied: contourpy>=1.0.1 in /usr/local/lib/python3.12/dist-packages (from matplotlib<4->mlflow) (1.3.3)\n",
            "Requirement already satisfied: cycler>=0.10 in /usr/local/lib/python3.12/dist-packages (from matplotlib<4->mlflow) (0.12.1)\n",
            "Requirement already satisfied: fonttools>=4.22.0 in /usr/local/lib/python3.12/dist-packages (from matplotlib<4->mlflow) (4.59.1)\n",
            "Requirement already satisfied: kiwisolver>=1.3.1 in /usr/local/lib/python3.12/dist-packages (from matplotlib<4->mlflow) (1.4.9)\n",
            "Requirement already satisfied: pillow>=8 in /usr/local/lib/python3.12/dist-packages (from matplotlib<4->mlflow) (11.3.0)\n",
            "Requirement already satisfied: pyparsing>=2.3.1 in /usr/local/lib/python3.12/dist-packages (from matplotlib<4->mlflow) (3.2.3)\n",
            "Requirement already satisfied: pytz>=2020.1 in /usr/local/lib/python3.12/dist-packages (from pandas<3->mlflow) (2025.2)\n",
            "Requirement already satisfied: tzdata>=2022.7 in /usr/local/lib/python3.12/dist-packages (from pandas<3->mlflow) (2025.2)\n",
            "Requirement already satisfied: joblib>=1.2.0 in /usr/local/lib/python3.12/dist-packages (from scikit-learn<2->mlflow) (1.5.1)\n",
            "Requirement already satisfied: threadpoolctl>=3.1.0 in /usr/local/lib/python3.12/dist-packages (from scikit-learn<2->mlflow) (3.6.0)\n",
            "Requirement already satisfied: greenlet>=1 in /usr/local/lib/python3.12/dist-packages (from sqlalchemy<3,>=1.4.0->mlflow) (3.2.4)\n",
            "Requirement already satisfied: pycparser in /usr/local/lib/python3.12/dist-packages (from cffi>=1.12->cryptography<46,>=43.0.0->mlflow) (2.22)\n",
            "Requirement already satisfied: google-auth~=2.0 in /usr/local/lib/python3.12/dist-packages (from databricks-sdk<1,>=0.20.0->mlflow-skinny==3.3.0->mlflow) (2.38.0)\n",
            "Requirement already satisfied: starlette<0.48.0,>=0.40.0 in /usr/local/lib/python3.12/dist-packages (from fastapi<1->mlflow-skinny==3.3.0->mlflow) (0.47.2)\n",
            "Requirement already satisfied: gitdb<5,>=4.0.1 in /usr/local/lib/python3.12/dist-packages (from gitpython<4,>=3.1.9->mlflow-skinny==3.3.0->mlflow) (4.0.12)\n",
            "Requirement already satisfied: zipp>=3.20 in /usr/local/lib/python3.12/dist-packages (from importlib_metadata!=4.7.0,<9,>=3.7.0->mlflow-skinny==3.3.0->mlflow) (3.23.0)\n",
            "Collecting opentelemetry-semantic-conventions==0.57b0 (from opentelemetry-sdk<3,>=1.9.0->mlflow-skinny==3.3.0->mlflow)\n",
            "  Downloading opentelemetry_semantic_conventions-0.57b0-py3-none-any.whl.metadata (2.4 kB)\n",
            "Requirement already satisfied: annotated-types>=0.6.0 in /usr/local/lib/python3.12/dist-packages (from pydantic<3,>=1.10.8->mlflow-skinny==3.3.0->mlflow) (0.7.0)\n",
            "Requirement already satisfied: pydantic-core==2.33.2 in /usr/local/lib/python3.12/dist-packages (from pydantic<3,>=1.10.8->mlflow-skinny==3.3.0->mlflow) (2.33.2)\n",
            "Requirement already satisfied: typing-inspection>=0.4.0 in /usr/local/lib/python3.12/dist-packages (from pydantic<3,>=1.10.8->mlflow-skinny==3.3.0->mlflow) (0.4.1)\n",
            "Requirement already satisfied: six>=1.5 in /usr/local/lib/python3.12/dist-packages (from python-dateutil<3,>=2.7.0->graphene<4->mlflow) (1.17.0)\n",
            "Requirement already satisfied: charset-normalizer<4,>=2 in /usr/local/lib/python3.12/dist-packages (from requests<3,>=2.17.3->mlflow-skinny==3.3.0->mlflow) (3.4.3)\n",
            "Requirement already satisfied: idna<4,>=2.5 in /usr/local/lib/python3.12/dist-packages (from requests<3,>=2.17.3->mlflow-skinny==3.3.0->mlflow) (3.10)\n",
            "Requirement already satisfied: certifi>=2017.4.17 in /usr/local/lib/python3.12/dist-packages (from requests<3,>=2.17.3->mlflow-skinny==3.3.0->mlflow) (2025.8.3)\n",
            "Requirement already satisfied: h11>=0.8 in /usr/local/lib/python3.12/dist-packages (from uvicorn<1->mlflow-skinny==3.3.0->mlflow) (0.16.0)\n",
            "Requirement already satisfied: smmap<6,>=3.0.1 in /usr/local/lib/python3.12/dist-packages (from gitdb<5,>=4.0.1->gitpython<4,>=3.1.9->mlflow-skinny==3.3.0->mlflow) (5.0.2)\n",
            "Requirement already satisfied: pyasn1-modules>=0.2.1 in /usr/local/lib/python3.12/dist-packages (from google-auth~=2.0->databricks-sdk<1,>=0.20.0->mlflow-skinny==3.3.0->mlflow) (0.4.2)\n",
            "Requirement already satisfied: rsa<5,>=3.1.4 in /usr/local/lib/python3.12/dist-packages (from google-auth~=2.0->databricks-sdk<1,>=0.20.0->mlflow-skinny==3.3.0->mlflow) (4.9.1)\n",
            "Requirement already satisfied: anyio<5,>=3.6.2 in /usr/local/lib/python3.12/dist-packages (from starlette<0.48.0,>=0.40.0->fastapi<1->mlflow-skinny==3.3.0->mlflow) (4.10.0)\n",
            "Requirement already satisfied: sniffio>=1.1 in /usr/local/lib/python3.12/dist-packages (from anyio<5,>=3.6.2->starlette<0.48.0,>=0.40.0->fastapi<1->mlflow-skinny==3.3.0->mlflow) (1.3.1)\n",
            "Requirement already satisfied: pyasn1<0.7.0,>=0.6.1 in /usr/local/lib/python3.12/dist-packages (from pyasn1-modules>=0.2.1->google-auth~=2.0->databricks-sdk<1,>=0.20.0->mlflow-skinny==3.3.0->mlflow) (0.6.1)\n",
            "Downloading mlflow-3.3.0-py3-none-any.whl (26.4 MB)\n",
            "\u001b[2K   \u001b[90m━━━━━━━━━━━━━━━━━━━━━━━━━━━━━━━━━━━━━━━━\u001b[0m \u001b[32m26.4/26.4 MB\u001b[0m \u001b[31m35.3 MB/s\u001b[0m eta \u001b[36m0:00:00\u001b[0m\n",
            "\u001b[?25hDownloading mlflow_skinny-3.3.0-py3-none-any.whl (2.0 MB)\n",
            "\u001b[2K   \u001b[90m━━━━━━━━━━━━━━━━━━━━━━━━━━━━━━━━━━━━━━━━\u001b[0m \u001b[32m2.0/2.0 MB\u001b[0m \u001b[31m50.4 MB/s\u001b[0m eta \u001b[36m0:00:00\u001b[0m\n",
            "\u001b[?25hDownloading mlflow_tracing-3.3.0-py3-none-any.whl (1.1 MB)\n",
            "\u001b[2K   \u001b[90m━━━━━━━━━━━━━━━━━━━━━━━━━━━━━━━━━━━━━━━━\u001b[0m \u001b[32m1.1/1.1 MB\u001b[0m \u001b[31m42.4 MB/s\u001b[0m eta \u001b[36m0:00:00\u001b[0m\n",
            "\u001b[?25hDownloading alembic-1.16.4-py3-none-any.whl (247 kB)\n",
            "\u001b[2K   \u001b[90m━━━━━━━━━━━━━━━━━━━━━━━━━━━━━━━━━━━━━━━━\u001b[0m \u001b[32m247.0/247.0 kB\u001b[0m \u001b[31m18.1 MB/s\u001b[0m eta \u001b[36m0:00:00\u001b[0m\n",
            "\u001b[?25hDownloading docker-7.1.0-py3-none-any.whl (147 kB)\n",
            "\u001b[2K   \u001b[90m━━━━━━━━━━━━━━━━━━━━━━━━━━━━━━━━━━━━━━━━\u001b[0m \u001b[32m147.8/147.8 kB\u001b[0m \u001b[31m9.5 MB/s\u001b[0m eta \u001b[36m0:00:00\u001b[0m\n",
            "\u001b[?25hDownloading graphene-3.4.3-py2.py3-none-any.whl (114 kB)\n",
            "\u001b[2K   \u001b[90m━━━━━━━━━━━━━━━━━━━━━━━━━━━━━━━━━━━━━━━━\u001b[0m \u001b[32m114.9/114.9 kB\u001b[0m \u001b[31m8.3 MB/s\u001b[0m eta \u001b[36m0:00:00\u001b[0m\n",
            "\u001b[?25hDownloading gunicorn-23.0.0-py3-none-any.whl (85 kB)\n",
            "\u001b[2K   \u001b[90m━━━━━━━━━━━━━━━━━━━━━━━━━━━━━━━━━━━━━━━━\u001b[0m \u001b[32m85.0/85.0 kB\u001b[0m \u001b[31m5.6 MB/s\u001b[0m eta \u001b[36m0:00:00\u001b[0m\n",
            "\u001b[?25hDownloading databricks_sdk-0.63.0-py3-none-any.whl (688 kB)\n",
            "\u001b[2K   \u001b[90m━━━━━━━━━━━━━━━━━━━━━━━━━━━━━━━━━━━━━━━━\u001b[0m \u001b[32m688.0/688.0 kB\u001b[0m \u001b[31m31.2 MB/s\u001b[0m eta \u001b[36m0:00:00\u001b[0m\n",
            "\u001b[?25hDownloading graphql_core-3.2.6-py3-none-any.whl (203 kB)\n",
            "\u001b[2K   \u001b[90m━━━━━━━━━━━━━━━━━━━━━━━━━━━━━━━━━━━━━━━━\u001b[0m \u001b[32m203.4/203.4 kB\u001b[0m \u001b[31m9.5 MB/s\u001b[0m eta \u001b[36m0:00:00\u001b[0m\n",
            "\u001b[?25hDownloading graphql_relay-3.2.0-py3-none-any.whl (16 kB)\n",
            "Downloading opentelemetry_api-1.36.0-py3-none-any.whl (65 kB)\n",
            "\u001b[2K   \u001b[90m━━━━━━━━━━━━━━━━━━━━━━━━━━━━━━━━━━━━━━━━\u001b[0m \u001b[32m65.6/65.6 kB\u001b[0m \u001b[31m4.2 MB/s\u001b[0m eta \u001b[36m0:00:00\u001b[0m\n",
            "\u001b[?25hDownloading opentelemetry_sdk-1.36.0-py3-none-any.whl (119 kB)\n",
            "\u001b[2K   \u001b[90m━━━━━━━━━━━━━━━━━━━━━━━━━━━━━━━━━━━━━━━━\u001b[0m \u001b[32m120.0/120.0 kB\u001b[0m \u001b[31m8.0 MB/s\u001b[0m eta \u001b[36m0:00:00\u001b[0m\n",
            "\u001b[?25hDownloading opentelemetry_semantic_conventions-0.57b0-py3-none-any.whl (201 kB)\n",
            "\u001b[2K   \u001b[90m━━━━━━━━━━━━━━━━━━━━━━━━━━━━━━━━━━━━━━━━\u001b[0m \u001b[32m201.6/201.6 kB\u001b[0m \u001b[31m13.3 MB/s\u001b[0m eta \u001b[36m0:00:00\u001b[0m\n",
            "\u001b[?25hInstalling collected packages: gunicorn, graphql-core, opentelemetry-api, graphql-relay, docker, alembic, opentelemetry-semantic-conventions, graphene, databricks-sdk, opentelemetry-sdk, mlflow-tracing, mlflow-skinny, mlflow\n",
            "Successfully installed alembic-1.16.4 databricks-sdk-0.63.0 docker-7.1.0 graphene-3.4.3 graphql-core-3.2.6 graphql-relay-3.2.0 gunicorn-23.0.0 mlflow-3.3.0 mlflow-skinny-3.3.0 mlflow-tracing-3.3.0 opentelemetry-api-1.36.0 opentelemetry-sdk-1.36.0 opentelemetry-semantic-conventions-0.57b0\n"
          ]
        }
      ],
      "source": [
        "!pip install mlflow"
      ]
    },
    {
      "cell_type": "code",
      "execution_count": 3,
      "metadata": {
        "id": "bzDqwImn2qcq"
      },
      "outputs": [],
      "source": [
        "!pip install pyngrok --quiet"
      ]
    },
    {
      "cell_type": "markdown",
      "metadata": {
        "id": "nN-QNDhpz4b0"
      },
      "source": [
        "###**Import packages**"
      ]
    },
    {
      "cell_type": "code",
      "execution_count": 4,
      "metadata": {
        "colab": {
          "base_uri": "https://localhost:8080/"
        },
        "id": "hpJWKKHe3dmI",
        "outputId": "f80cb5b1-d7c5-4505-92f5-732527f2f53a"
      },
      "outputs": [
        {
          "output_type": "stream",
          "name": "stdout",
          "text": [
            "Mounted at /content/drive\n"
          ]
        }
      ],
      "source": [
        "# Importing the needed packages.\n",
        "import numpy as np                                                # For numerical operation arraywise.\n",
        "import pandas as pd                                               # For Data manipulation.\n",
        "import matplotlib.pyplot as plt                                   # For basic visualization's functions.\n",
        "import seaborn as sns                                             # For advance visualization's functions.\n",
        "# Mount Google Drive\n",
        "from google.colab import drive\n",
        "drive.mount('/content/drive')\n",
        "\n",
        "from darts import TimeSeries\n",
        "from darts.models import ARIMA\n",
        "import xgboost as xgb\n",
        "from sklearn.model_selection import TimeSeriesSplit\n",
        "from sklearn.model_selection import GridSearchCV\n",
        "\n",
        "import mlflow\n",
        "from mlflow.tracking import MlflowClient # Import the client for more control\n",
        "import joblib\n",
        "import pickle\n",
        "import mlflow.xgboost\n",
        "from pyngrok import ngrok, conf\n",
        "import getpass\n",
        "import subprocess\n",
        "import os\n",
        "import time"
      ]
    },
    {
      "cell_type": "code",
      "execution_count": 5,
      "metadata": {
        "colab": {
          "base_uri": "https://localhost:8080/"
        },
        "id": "Hc0tg_Bjzzk4",
        "outputId": "02daec28-1f9c-470b-8b56-17814981aba5"
      },
      "outputs": [
        {
          "output_type": "stream",
          "name": "stdout",
          "text": [
            "/content\n"
          ]
        }
      ],
      "source": [
        "!pwd  # pwd = 'print working directory' tels us where we are"
      ]
    },
    {
      "cell_type": "code",
      "execution_count": 6,
      "metadata": {
        "colab": {
          "base_uri": "https://localhost:8080/"
        },
        "id": "3g1blft502BW",
        "outputId": "e21cd922-e0d0-4ebb-d99a-77cfeedce154"
      },
      "outputs": [
        {
          "output_type": "stream",
          "name": "stdout",
          "text": [
            "[Errno 2] No such file or directory: 'drive/MyDrive/ # cd = change directory'\n",
            "/content\n"
          ]
        }
      ],
      "source": [
        "%cd drive/MyDrive/ # cd = 'change directory'"
      ]
    },
    {
      "cell_type": "code",
      "execution_count": 7,
      "metadata": {
        "colab": {
          "base_uri": "https://localhost:8080/"
        },
        "id": "ywnJPtco0_3H",
        "outputId": "e997f493-ec8b-4737-92cb-6d309bf23a86"
      },
      "outputs": [
        {
          "output_type": "stream",
          "name": "stdout",
          "text": [
            "/content\n"
          ]
        }
      ],
      "source": [
        "!pwd"
      ]
    },
    {
      "cell_type": "markdown",
      "metadata": {
        "id": "elpYoZRD4xgP"
      },
      "source": [
        "###**Data Loading for Guayas Region**"
      ]
    },
    {
      "cell_type": "code",
      "execution_count": 8,
      "metadata": {
        "id": "El3czEtn40in"
      },
      "outputs": [],
      "source": [
        "df = pd.read_csv('/content/drive/MyDrive/guayas_ready.csv', index_col=0) # index_col=0 let pandas know that the df has an index"
      ]
    },
    {
      "cell_type": "code",
      "source": [
        "#df_item = pd.read_csv('/content/drive/MyDrive/item.csv')"
      ],
      "metadata": {
        "id": "bKEoAnXFJHbc"
      },
      "execution_count": 9,
      "outputs": []
    },
    {
      "cell_type": "code",
      "execution_count": 10,
      "metadata": {
        "colab": {
          "base_uri": "https://localhost:8080/"
        },
        "id": "eBcs6YjfOz1_",
        "outputId": "5a09f8e6-d107-490f-d66c-0dd54eb4606b"
      },
      "outputs": [
        {
          "output_type": "stream",
          "name": "stdout",
          "text": [
            "<class 'pandas.core.frame.DataFrame'>\n",
            "Index: 22285217 entries, 0 to 0\n",
            "Data columns (total 12 columns):\n",
            " #   Column          Dtype  \n",
            "---  ------          -----  \n",
            " 0   date            object \n",
            " 1   id              int64  \n",
            " 2   store_nbr       int64  \n",
            " 3   item_nbr        int64  \n",
            " 4   unit_sales      float64\n",
            " 5   onpromotion     bool   \n",
            " 6   z_score         float64\n",
            " 7   unit_sales_log  float64\n",
            " 8   year            int64  \n",
            " 9   month           int64  \n",
            " 10  day             int64  \n",
            " 11  day_of_week     int64  \n",
            "dtypes: bool(1), float64(3), int64(7), object(1)\n",
            "memory usage: 2.0+ GB\n"
          ]
        }
      ],
      "source": [
        "df.info()"
      ]
    },
    {
      "cell_type": "code",
      "execution_count": 11,
      "metadata": {
        "colab": {
          "base_uri": "https://localhost:8080/"
        },
        "id": "SkfNnymmVLnI",
        "outputId": "ad63d95e-fe16-4205-db5b-e1d248767161"
      },
      "outputs": [
        {
          "output_type": "execute_result",
          "data": {
            "text/plain": [
              "np.float64(0.1364494834171825)"
            ]
          },
          "metadata": {},
          "execution_count": 11
        }
      ],
      "source": [
        "onpromotion_onpromotion_corr =  df['onpromotion'].astype(int).corr(df['unit_sales'])\n",
        "onpromotion_onpromotion_corr # if onpromotion_onpromotion_corr is closed to 0 --> onpromotion_rolling_averages probably won’t help."
      ]
    },
    {
      "cell_type": "code",
      "execution_count": 12,
      "metadata": {
        "colab": {
          "base_uri": "https://localhost:8080/"
        },
        "id": "e3Uw2Igp5X--",
        "outputId": "afdccafe-d975-4105-fe5a-38bed76c8dbb"
      },
      "outputs": [
        {
          "output_type": "execute_result",
          "data": {
            "text/plain": [
              "(22285217, 12)"
            ]
          },
          "metadata": {},
          "execution_count": 12
        }
      ],
      "source": [
        "df.shape"
      ]
    },
    {
      "cell_type": "code",
      "execution_count": 13,
      "metadata": {
        "colab": {
          "base_uri": "https://localhost:8080/",
          "height": 0
        },
        "id": "Ep5lB7g37u28",
        "outputId": "b43c007b-d2a5-42dd-9b6a-5c6e5d8fb989"
      },
      "outputs": [
        {
          "output_type": "execute_result",
          "data": {
            "text/plain": [
              "         date       id  store_nbr  item_nbr  unit_sales  onpromotion  \\\n",
              "0  2013-02-17  1895433         24     96995         1.0        False   \n",
              "\n",
              "    z_score  unit_sales_log  year  month  day  day_of_week  \n",
              "0 -0.728178        0.693147  2013      2   17            6  "
            ],
            "text/html": [
              "\n",
              "  <div id=\"df-46243c49-2166-4c0f-aeb7-e7010345a82d\" class=\"colab-df-container\">\n",
              "    <div>\n",
              "<style scoped>\n",
              "    .dataframe tbody tr th:only-of-type {\n",
              "        vertical-align: middle;\n",
              "    }\n",
              "\n",
              "    .dataframe tbody tr th {\n",
              "        vertical-align: top;\n",
              "    }\n",
              "\n",
              "    .dataframe thead th {\n",
              "        text-align: right;\n",
              "    }\n",
              "</style>\n",
              "<table border=\"1\" class=\"dataframe\">\n",
              "  <thead>\n",
              "    <tr style=\"text-align: right;\">\n",
              "      <th></th>\n",
              "      <th>date</th>\n",
              "      <th>id</th>\n",
              "      <th>store_nbr</th>\n",
              "      <th>item_nbr</th>\n",
              "      <th>unit_sales</th>\n",
              "      <th>onpromotion</th>\n",
              "      <th>z_score</th>\n",
              "      <th>unit_sales_log</th>\n",
              "      <th>year</th>\n",
              "      <th>month</th>\n",
              "      <th>day</th>\n",
              "      <th>day_of_week</th>\n",
              "    </tr>\n",
              "  </thead>\n",
              "  <tbody>\n",
              "    <tr>\n",
              "      <th>0</th>\n",
              "      <td>2013-02-17</td>\n",
              "      <td>1895433</td>\n",
              "      <td>24</td>\n",
              "      <td>96995</td>\n",
              "      <td>1.0</td>\n",
              "      <td>False</td>\n",
              "      <td>-0.728178</td>\n",
              "      <td>0.693147</td>\n",
              "      <td>2013</td>\n",
              "      <td>2</td>\n",
              "      <td>17</td>\n",
              "      <td>6</td>\n",
              "    </tr>\n",
              "  </tbody>\n",
              "</table>\n",
              "</div>\n",
              "    <div class=\"colab-df-buttons\">\n",
              "\n",
              "  <div class=\"colab-df-container\">\n",
              "    <button class=\"colab-df-convert\" onclick=\"convertToInteractive('df-46243c49-2166-4c0f-aeb7-e7010345a82d')\"\n",
              "            title=\"Convert this dataframe to an interactive table.\"\n",
              "            style=\"display:none;\">\n",
              "\n",
              "  <svg xmlns=\"http://www.w3.org/2000/svg\" height=\"24px\" viewBox=\"0 -960 960 960\">\n",
              "    <path d=\"M120-120v-720h720v720H120Zm60-500h600v-160H180v160Zm220 220h160v-160H400v160Zm0 220h160v-160H400v160ZM180-400h160v-160H180v160Zm440 0h160v-160H620v160ZM180-180h160v-160H180v160Zm440 0h160v-160H620v160Z\"/>\n",
              "  </svg>\n",
              "    </button>\n",
              "\n",
              "  <style>\n",
              "    .colab-df-container {\n",
              "      display:flex;\n",
              "      gap: 12px;\n",
              "    }\n",
              "\n",
              "    .colab-df-convert {\n",
              "      background-color: #E8F0FE;\n",
              "      border: none;\n",
              "      border-radius: 50%;\n",
              "      cursor: pointer;\n",
              "      display: none;\n",
              "      fill: #1967D2;\n",
              "      height: 32px;\n",
              "      padding: 0 0 0 0;\n",
              "      width: 32px;\n",
              "    }\n",
              "\n",
              "    .colab-df-convert:hover {\n",
              "      background-color: #E2EBFA;\n",
              "      box-shadow: 0px 1px 2px rgba(60, 64, 67, 0.3), 0px 1px 3px 1px rgba(60, 64, 67, 0.15);\n",
              "      fill: #174EA6;\n",
              "    }\n",
              "\n",
              "    .colab-df-buttons div {\n",
              "      margin-bottom: 4px;\n",
              "    }\n",
              "\n",
              "    [theme=dark] .colab-df-convert {\n",
              "      background-color: #3B4455;\n",
              "      fill: #D2E3FC;\n",
              "    }\n",
              "\n",
              "    [theme=dark] .colab-df-convert:hover {\n",
              "      background-color: #434B5C;\n",
              "      box-shadow: 0px 1px 3px 1px rgba(0, 0, 0, 0.15);\n",
              "      filter: drop-shadow(0px 1px 2px rgba(0, 0, 0, 0.3));\n",
              "      fill: #FFFFFF;\n",
              "    }\n",
              "  </style>\n",
              "\n",
              "    <script>\n",
              "      const buttonEl =\n",
              "        document.querySelector('#df-46243c49-2166-4c0f-aeb7-e7010345a82d button.colab-df-convert');\n",
              "      buttonEl.style.display =\n",
              "        google.colab.kernel.accessAllowed ? 'block' : 'none';\n",
              "\n",
              "      async function convertToInteractive(key) {\n",
              "        const element = document.querySelector('#df-46243c49-2166-4c0f-aeb7-e7010345a82d');\n",
              "        const dataTable =\n",
              "          await google.colab.kernel.invokeFunction('convertToInteractive',\n",
              "                                                    [key], {});\n",
              "        if (!dataTable) return;\n",
              "\n",
              "        const docLinkHtml = 'Like what you see? Visit the ' +\n",
              "          '<a target=\"_blank\" href=https://colab.research.google.com/notebooks/data_table.ipynb>data table notebook</a>'\n",
              "          + ' to learn more about interactive tables.';\n",
              "        element.innerHTML = '';\n",
              "        dataTable['output_type'] = 'display_data';\n",
              "        await google.colab.output.renderOutput(dataTable, element);\n",
              "        const docLink = document.createElement('div');\n",
              "        docLink.innerHTML = docLinkHtml;\n",
              "        element.appendChild(docLink);\n",
              "      }\n",
              "    </script>\n",
              "  </div>\n",
              "\n",
              "\n",
              "    </div>\n",
              "  </div>\n"
            ],
            "application/vnd.google.colaboratory.intrinsic+json": {
              "type": "dataframe",
              "variable_name": "df"
            }
          },
          "metadata": {},
          "execution_count": 13
        }
      ],
      "source": [
        "df.head(1)"
      ]
    },
    {
      "cell_type": "code",
      "execution_count": 14,
      "metadata": {
        "colab": {
          "base_uri": "https://localhost:8080/"
        },
        "id": "Pu36oKb5Gt7o",
        "outputId": "19ddf05c-a87d-41f4-d3aa-93bbcf75ddfb"
      },
      "outputs": [
        {
          "output_type": "execute_result",
          "data": {
            "text/plain": [
              "(1266514, 12)"
            ]
          },
          "metadata": {},
          "execution_count": 14
        }
      ],
      "source": [
        "# Filtering the dataset for the perioid of Jan 1 – Mar 31 2014\n",
        "min_date = '2013-11-30'\n",
        "max_date = '2014-04-01'\n",
        "df = df[(df['date'] > min_date) & (df['date'] < max_date)]\n",
        "df.shape"
      ]
    },
    {
      "cell_type": "markdown",
      "metadata": {
        "id": "cWpmGqCk8VLF"
      },
      "source": [
        "###**EDA**"
      ]
    },
    {
      "cell_type": "markdown",
      "metadata": {
        "id": "TZnQib7w8vx_"
      },
      "source": [
        "####**Handling Missing data**"
      ]
    },
    {
      "cell_type": "code",
      "execution_count": 15,
      "metadata": {
        "colab": {
          "base_uri": "https://localhost:8080/",
          "height": 0
        },
        "id": "laCGvrDhXeoa",
        "outputId": "2d3e92e2-93b3-4ef0-e5be-5c635636a218"
      },
      "outputs": [
        {
          "output_type": "execute_result",
          "data": {
            "text/plain": [
              "date              0\n",
              "id                0\n",
              "store_nbr         0\n",
              "item_nbr          0\n",
              "unit_sales        0\n",
              "onpromotion       0\n",
              "z_score           1\n",
              "unit_sales_log    0\n",
              "year              0\n",
              "month             0\n",
              "day               0\n",
              "day_of_week       0\n",
              "dtype: int64"
            ],
            "text/html": [
              "<div>\n",
              "<style scoped>\n",
              "    .dataframe tbody tr th:only-of-type {\n",
              "        vertical-align: middle;\n",
              "    }\n",
              "\n",
              "    .dataframe tbody tr th {\n",
              "        vertical-align: top;\n",
              "    }\n",
              "\n",
              "    .dataframe thead th {\n",
              "        text-align: right;\n",
              "    }\n",
              "</style>\n",
              "<table border=\"1\" class=\"dataframe\">\n",
              "  <thead>\n",
              "    <tr style=\"text-align: right;\">\n",
              "      <th></th>\n",
              "      <th>0</th>\n",
              "    </tr>\n",
              "  </thead>\n",
              "  <tbody>\n",
              "    <tr>\n",
              "      <th>date</th>\n",
              "      <td>0</td>\n",
              "    </tr>\n",
              "    <tr>\n",
              "      <th>id</th>\n",
              "      <td>0</td>\n",
              "    </tr>\n",
              "    <tr>\n",
              "      <th>store_nbr</th>\n",
              "      <td>0</td>\n",
              "    </tr>\n",
              "    <tr>\n",
              "      <th>item_nbr</th>\n",
              "      <td>0</td>\n",
              "    </tr>\n",
              "    <tr>\n",
              "      <th>unit_sales</th>\n",
              "      <td>0</td>\n",
              "    </tr>\n",
              "    <tr>\n",
              "      <th>onpromotion</th>\n",
              "      <td>0</td>\n",
              "    </tr>\n",
              "    <tr>\n",
              "      <th>z_score</th>\n",
              "      <td>1</td>\n",
              "    </tr>\n",
              "    <tr>\n",
              "      <th>unit_sales_log</th>\n",
              "      <td>0</td>\n",
              "    </tr>\n",
              "    <tr>\n",
              "      <th>year</th>\n",
              "      <td>0</td>\n",
              "    </tr>\n",
              "    <tr>\n",
              "      <th>month</th>\n",
              "      <td>0</td>\n",
              "    </tr>\n",
              "    <tr>\n",
              "      <th>day</th>\n",
              "      <td>0</td>\n",
              "    </tr>\n",
              "    <tr>\n",
              "      <th>day_of_week</th>\n",
              "      <td>0</td>\n",
              "    </tr>\n",
              "  </tbody>\n",
              "</table>\n",
              "</div><br><label><b>dtype:</b> int64</label>"
            ]
          },
          "metadata": {},
          "execution_count": 15
        }
      ],
      "source": [
        "df.isna().sum()"
      ]
    },
    {
      "cell_type": "code",
      "execution_count": 16,
      "metadata": {
        "id": "FVtJ0-8AYMlf"
      },
      "outputs": [],
      "source": [
        "df = df.dropna(subset=['z_score'])"
      ]
    },
    {
      "cell_type": "code",
      "execution_count": 17,
      "metadata": {
        "colab": {
          "base_uri": "https://localhost:8080/",
          "height": 0
        },
        "id": "Eldnz7brYzlQ",
        "outputId": "ac04d95f-3400-4b0c-f9fc-dabf32997f55"
      },
      "outputs": [
        {
          "output_type": "execute_result",
          "data": {
            "text/plain": [
              "date              0\n",
              "id                0\n",
              "store_nbr         0\n",
              "item_nbr          0\n",
              "unit_sales        0\n",
              "onpromotion       0\n",
              "z_score           0\n",
              "unit_sales_log    0\n",
              "year              0\n",
              "month             0\n",
              "day               0\n",
              "day_of_week       0\n",
              "dtype: int64"
            ],
            "text/html": [
              "<div>\n",
              "<style scoped>\n",
              "    .dataframe tbody tr th:only-of-type {\n",
              "        vertical-align: middle;\n",
              "    }\n",
              "\n",
              "    .dataframe tbody tr th {\n",
              "        vertical-align: top;\n",
              "    }\n",
              "\n",
              "    .dataframe thead th {\n",
              "        text-align: right;\n",
              "    }\n",
              "</style>\n",
              "<table border=\"1\" class=\"dataframe\">\n",
              "  <thead>\n",
              "    <tr style=\"text-align: right;\">\n",
              "      <th></th>\n",
              "      <th>0</th>\n",
              "    </tr>\n",
              "  </thead>\n",
              "  <tbody>\n",
              "    <tr>\n",
              "      <th>date</th>\n",
              "      <td>0</td>\n",
              "    </tr>\n",
              "    <tr>\n",
              "      <th>id</th>\n",
              "      <td>0</td>\n",
              "    </tr>\n",
              "    <tr>\n",
              "      <th>store_nbr</th>\n",
              "      <td>0</td>\n",
              "    </tr>\n",
              "    <tr>\n",
              "      <th>item_nbr</th>\n",
              "      <td>0</td>\n",
              "    </tr>\n",
              "    <tr>\n",
              "      <th>unit_sales</th>\n",
              "      <td>0</td>\n",
              "    </tr>\n",
              "    <tr>\n",
              "      <th>onpromotion</th>\n",
              "      <td>0</td>\n",
              "    </tr>\n",
              "    <tr>\n",
              "      <th>z_score</th>\n",
              "      <td>0</td>\n",
              "    </tr>\n",
              "    <tr>\n",
              "      <th>unit_sales_log</th>\n",
              "      <td>0</td>\n",
              "    </tr>\n",
              "    <tr>\n",
              "      <th>year</th>\n",
              "      <td>0</td>\n",
              "    </tr>\n",
              "    <tr>\n",
              "      <th>month</th>\n",
              "      <td>0</td>\n",
              "    </tr>\n",
              "    <tr>\n",
              "      <th>day</th>\n",
              "      <td>0</td>\n",
              "    </tr>\n",
              "    <tr>\n",
              "      <th>day_of_week</th>\n",
              "      <td>0</td>\n",
              "    </tr>\n",
              "  </tbody>\n",
              "</table>\n",
              "</div><br><label><b>dtype:</b> int64</label>"
            ]
          },
          "metadata": {},
          "execution_count": 17
        }
      ],
      "source": [
        "df.isna().sum()"
      ]
    },
    {
      "cell_type": "markdown",
      "metadata": {
        "id": "aEiMOv20JN5J"
      },
      "source": [
        "####**Feature Engineering for Machine Learning**"
      ]
    },
    {
      "cell_type": "code",
      "execution_count": 18,
      "metadata": {
        "colab": {
          "base_uri": "https://localhost:8080/",
          "height": 0
        },
        "id": "xRfBWHlNgDrj",
        "outputId": "41334866-7ec1-4897-f81a-24dc6faa97fe"
      },
      "outputs": [
        {
          "output_type": "execute_result",
          "data": {
            "text/plain": [
              "           date  id  store_nbr  item_nbr  unit_sales  onpromotion  z_score  \\\n",
              "287  2013-12-01   0         24     96995         0.0        False      0.0   \n",
              "\n",
              "     unit_sales_log  year  month  day  day_of_week  \n",
              "287             0.0  2013     12    1            6  "
            ],
            "text/html": [
              "\n",
              "  <div id=\"df-c03a1f53-d01a-4497-adcf-ea29ea47928d\" class=\"colab-df-container\">\n",
              "    <div>\n",
              "<style scoped>\n",
              "    .dataframe tbody tr th:only-of-type {\n",
              "        vertical-align: middle;\n",
              "    }\n",
              "\n",
              "    .dataframe tbody tr th {\n",
              "        vertical-align: top;\n",
              "    }\n",
              "\n",
              "    .dataframe thead th {\n",
              "        text-align: right;\n",
              "    }\n",
              "</style>\n",
              "<table border=\"1\" class=\"dataframe\">\n",
              "  <thead>\n",
              "    <tr style=\"text-align: right;\">\n",
              "      <th></th>\n",
              "      <th>date</th>\n",
              "      <th>id</th>\n",
              "      <th>store_nbr</th>\n",
              "      <th>item_nbr</th>\n",
              "      <th>unit_sales</th>\n",
              "      <th>onpromotion</th>\n",
              "      <th>z_score</th>\n",
              "      <th>unit_sales_log</th>\n",
              "      <th>year</th>\n",
              "      <th>month</th>\n",
              "      <th>day</th>\n",
              "      <th>day_of_week</th>\n",
              "    </tr>\n",
              "  </thead>\n",
              "  <tbody>\n",
              "    <tr>\n",
              "      <th>287</th>\n",
              "      <td>2013-12-01</td>\n",
              "      <td>0</td>\n",
              "      <td>24</td>\n",
              "      <td>96995</td>\n",
              "      <td>0.0</td>\n",
              "      <td>False</td>\n",
              "      <td>0.0</td>\n",
              "      <td>0.0</td>\n",
              "      <td>2013</td>\n",
              "      <td>12</td>\n",
              "      <td>1</td>\n",
              "      <td>6</td>\n",
              "    </tr>\n",
              "  </tbody>\n",
              "</table>\n",
              "</div>\n",
              "    <div class=\"colab-df-buttons\">\n",
              "\n",
              "  <div class=\"colab-df-container\">\n",
              "    <button class=\"colab-df-convert\" onclick=\"convertToInteractive('df-c03a1f53-d01a-4497-adcf-ea29ea47928d')\"\n",
              "            title=\"Convert this dataframe to an interactive table.\"\n",
              "            style=\"display:none;\">\n",
              "\n",
              "  <svg xmlns=\"http://www.w3.org/2000/svg\" height=\"24px\" viewBox=\"0 -960 960 960\">\n",
              "    <path d=\"M120-120v-720h720v720H120Zm60-500h600v-160H180v160Zm220 220h160v-160H400v160Zm0 220h160v-160H400v160ZM180-400h160v-160H180v160Zm440 0h160v-160H620v160ZM180-180h160v-160H180v160Zm440 0h160v-160H620v160Z\"/>\n",
              "  </svg>\n",
              "    </button>\n",
              "\n",
              "  <style>\n",
              "    .colab-df-container {\n",
              "      display:flex;\n",
              "      gap: 12px;\n",
              "    }\n",
              "\n",
              "    .colab-df-convert {\n",
              "      background-color: #E8F0FE;\n",
              "      border: none;\n",
              "      border-radius: 50%;\n",
              "      cursor: pointer;\n",
              "      display: none;\n",
              "      fill: #1967D2;\n",
              "      height: 32px;\n",
              "      padding: 0 0 0 0;\n",
              "      width: 32px;\n",
              "    }\n",
              "\n",
              "    .colab-df-convert:hover {\n",
              "      background-color: #E2EBFA;\n",
              "      box-shadow: 0px 1px 2px rgba(60, 64, 67, 0.3), 0px 1px 3px 1px rgba(60, 64, 67, 0.15);\n",
              "      fill: #174EA6;\n",
              "    }\n",
              "\n",
              "    .colab-df-buttons div {\n",
              "      margin-bottom: 4px;\n",
              "    }\n",
              "\n",
              "    [theme=dark] .colab-df-convert {\n",
              "      background-color: #3B4455;\n",
              "      fill: #D2E3FC;\n",
              "    }\n",
              "\n",
              "    [theme=dark] .colab-df-convert:hover {\n",
              "      background-color: #434B5C;\n",
              "      box-shadow: 0px 1px 3px 1px rgba(0, 0, 0, 0.15);\n",
              "      filter: drop-shadow(0px 1px 2px rgba(0, 0, 0, 0.3));\n",
              "      fill: #FFFFFF;\n",
              "    }\n",
              "  </style>\n",
              "\n",
              "    <script>\n",
              "      const buttonEl =\n",
              "        document.querySelector('#df-c03a1f53-d01a-4497-adcf-ea29ea47928d button.colab-df-convert');\n",
              "      buttonEl.style.display =\n",
              "        google.colab.kernel.accessAllowed ? 'block' : 'none';\n",
              "\n",
              "      async function convertToInteractive(key) {\n",
              "        const element = document.querySelector('#df-c03a1f53-d01a-4497-adcf-ea29ea47928d');\n",
              "        const dataTable =\n",
              "          await google.colab.kernel.invokeFunction('convertToInteractive',\n",
              "                                                    [key], {});\n",
              "        if (!dataTable) return;\n",
              "\n",
              "        const docLinkHtml = 'Like what you see? Visit the ' +\n",
              "          '<a target=\"_blank\" href=https://colab.research.google.com/notebooks/data_table.ipynb>data table notebook</a>'\n",
              "          + ' to learn more about interactive tables.';\n",
              "        element.innerHTML = '';\n",
              "        dataTable['output_type'] = 'display_data';\n",
              "        await google.colab.output.renderOutput(dataTable, element);\n",
              "        const docLink = document.createElement('div');\n",
              "        docLink.innerHTML = docLinkHtml;\n",
              "        element.appendChild(docLink);\n",
              "      }\n",
              "    </script>\n",
              "  </div>\n",
              "\n",
              "\n",
              "    </div>\n",
              "  </div>\n"
            ],
            "application/vnd.google.colaboratory.intrinsic+json": {
              "type": "dataframe",
              "variable_name": "df"
            }
          },
          "metadata": {},
          "execution_count": 18
        }
      ],
      "source": [
        "df.head(1)"
      ]
    },
    {
      "cell_type": "code",
      "execution_count": 19,
      "metadata": {
        "id": "MnZZ351pgBZs"
      },
      "outputs": [],
      "source": [
        "df=df.reset_index()"
      ]
    },
    {
      "cell_type": "code",
      "execution_count": 20,
      "metadata": {
        "colab": {
          "base_uri": "https://localhost:8080/",
          "height": 0
        },
        "id": "8_EiFxbOgJNy",
        "outputId": "230a21a2-be17-455e-ec34-cdc4c91ba00a"
      },
      "outputs": [
        {
          "output_type": "execute_result",
          "data": {
            "text/plain": [
              "   index        date  id  store_nbr  item_nbr  unit_sales  onpromotion  \\\n",
              "0    287  2013-12-01   0         24     96995         0.0        False   \n",
              "\n",
              "   z_score  unit_sales_log  year  month  day  day_of_week  \n",
              "0      0.0             0.0  2013     12    1            6  "
            ],
            "text/html": [
              "\n",
              "  <div id=\"df-fa24185b-05c2-4679-9946-fb7473559071\" class=\"colab-df-container\">\n",
              "    <div>\n",
              "<style scoped>\n",
              "    .dataframe tbody tr th:only-of-type {\n",
              "        vertical-align: middle;\n",
              "    }\n",
              "\n",
              "    .dataframe tbody tr th {\n",
              "        vertical-align: top;\n",
              "    }\n",
              "\n",
              "    .dataframe thead th {\n",
              "        text-align: right;\n",
              "    }\n",
              "</style>\n",
              "<table border=\"1\" class=\"dataframe\">\n",
              "  <thead>\n",
              "    <tr style=\"text-align: right;\">\n",
              "      <th></th>\n",
              "      <th>index</th>\n",
              "      <th>date</th>\n",
              "      <th>id</th>\n",
              "      <th>store_nbr</th>\n",
              "      <th>item_nbr</th>\n",
              "      <th>unit_sales</th>\n",
              "      <th>onpromotion</th>\n",
              "      <th>z_score</th>\n",
              "      <th>unit_sales_log</th>\n",
              "      <th>year</th>\n",
              "      <th>month</th>\n",
              "      <th>day</th>\n",
              "      <th>day_of_week</th>\n",
              "    </tr>\n",
              "  </thead>\n",
              "  <tbody>\n",
              "    <tr>\n",
              "      <th>0</th>\n",
              "      <td>287</td>\n",
              "      <td>2013-12-01</td>\n",
              "      <td>0</td>\n",
              "      <td>24</td>\n",
              "      <td>96995</td>\n",
              "      <td>0.0</td>\n",
              "      <td>False</td>\n",
              "      <td>0.0</td>\n",
              "      <td>0.0</td>\n",
              "      <td>2013</td>\n",
              "      <td>12</td>\n",
              "      <td>1</td>\n",
              "      <td>6</td>\n",
              "    </tr>\n",
              "  </tbody>\n",
              "</table>\n",
              "</div>\n",
              "    <div class=\"colab-df-buttons\">\n",
              "\n",
              "  <div class=\"colab-df-container\">\n",
              "    <button class=\"colab-df-convert\" onclick=\"convertToInteractive('df-fa24185b-05c2-4679-9946-fb7473559071')\"\n",
              "            title=\"Convert this dataframe to an interactive table.\"\n",
              "            style=\"display:none;\">\n",
              "\n",
              "  <svg xmlns=\"http://www.w3.org/2000/svg\" height=\"24px\" viewBox=\"0 -960 960 960\">\n",
              "    <path d=\"M120-120v-720h720v720H120Zm60-500h600v-160H180v160Zm220 220h160v-160H400v160Zm0 220h160v-160H400v160ZM180-400h160v-160H180v160Zm440 0h160v-160H620v160ZM180-180h160v-160H180v160Zm440 0h160v-160H620v160Z\"/>\n",
              "  </svg>\n",
              "    </button>\n",
              "\n",
              "  <style>\n",
              "    .colab-df-container {\n",
              "      display:flex;\n",
              "      gap: 12px;\n",
              "    }\n",
              "\n",
              "    .colab-df-convert {\n",
              "      background-color: #E8F0FE;\n",
              "      border: none;\n",
              "      border-radius: 50%;\n",
              "      cursor: pointer;\n",
              "      display: none;\n",
              "      fill: #1967D2;\n",
              "      height: 32px;\n",
              "      padding: 0 0 0 0;\n",
              "      width: 32px;\n",
              "    }\n",
              "\n",
              "    .colab-df-convert:hover {\n",
              "      background-color: #E2EBFA;\n",
              "      box-shadow: 0px 1px 2px rgba(60, 64, 67, 0.3), 0px 1px 3px 1px rgba(60, 64, 67, 0.15);\n",
              "      fill: #174EA6;\n",
              "    }\n",
              "\n",
              "    .colab-df-buttons div {\n",
              "      margin-bottom: 4px;\n",
              "    }\n",
              "\n",
              "    [theme=dark] .colab-df-convert {\n",
              "      background-color: #3B4455;\n",
              "      fill: #D2E3FC;\n",
              "    }\n",
              "\n",
              "    [theme=dark] .colab-df-convert:hover {\n",
              "      background-color: #434B5C;\n",
              "      box-shadow: 0px 1px 3px 1px rgba(0, 0, 0, 0.15);\n",
              "      filter: drop-shadow(0px 1px 2px rgba(0, 0, 0, 0.3));\n",
              "      fill: #FFFFFF;\n",
              "    }\n",
              "  </style>\n",
              "\n",
              "    <script>\n",
              "      const buttonEl =\n",
              "        document.querySelector('#df-fa24185b-05c2-4679-9946-fb7473559071 button.colab-df-convert');\n",
              "      buttonEl.style.display =\n",
              "        google.colab.kernel.accessAllowed ? 'block' : 'none';\n",
              "\n",
              "      async function convertToInteractive(key) {\n",
              "        const element = document.querySelector('#df-fa24185b-05c2-4679-9946-fb7473559071');\n",
              "        const dataTable =\n",
              "          await google.colab.kernel.invokeFunction('convertToInteractive',\n",
              "                                                    [key], {});\n",
              "        if (!dataTable) return;\n",
              "\n",
              "        const docLinkHtml = 'Like what you see? Visit the ' +\n",
              "          '<a target=\"_blank\" href=https://colab.research.google.com/notebooks/data_table.ipynb>data table notebook</a>'\n",
              "          + ' to learn more about interactive tables.';\n",
              "        element.innerHTML = '';\n",
              "        dataTable['output_type'] = 'display_data';\n",
              "        await google.colab.output.renderOutput(dataTable, element);\n",
              "        const docLink = document.createElement('div');\n",
              "        docLink.innerHTML = docLinkHtml;\n",
              "        element.appendChild(docLink);\n",
              "      }\n",
              "    </script>\n",
              "  </div>\n",
              "\n",
              "\n",
              "    </div>\n",
              "  </div>\n"
            ],
            "application/vnd.google.colaboratory.intrinsic+json": {
              "type": "dataframe",
              "variable_name": "df"
            }
          },
          "metadata": {},
          "execution_count": 20
        }
      ],
      "source": [
        "df.head(1)"
      ]
    },
    {
      "cell_type": "code",
      "execution_count": 21,
      "metadata": {
        "id": "Sy-aqWS1mkqV"
      },
      "outputs": [],
      "source": [
        "df_features = df.copy()\n",
        "df_features['date'] = pd.to_datetime(df_features['date'])\n",
        "df_features = df_features.set_index(['date', 'store_nbr', 'item_nbr']).sort_index()"
      ]
    },
    {
      "cell_type": "code",
      "execution_count": 22,
      "metadata": {
        "colab": {
          "base_uri": "https://localhost:8080/"
        },
        "id": "Mwhuci_qmhvv",
        "outputId": "89f722d1-ec24-408d-ef71-bc5a29d26b19"
      },
      "outputs": [
        {
          "output_type": "stream",
          "name": "stdout",
          "text": [
            "Final DataFrame with Engineered Features:\n",
            "                               index  id  unit_sales  onpromotion  z_score  \\\n",
            "date       store_nbr item_nbr                                                \n",
            "2013-12-31 24        96995       317   0         0.0        False      0.0   \n",
            "                     103520      359   0         0.0        False      0.0   \n",
            "                     105574      354   0         0.0        False      0.0   \n",
            "                     105575      340   0         0.0        False      0.0   \n",
            "                     105577      362   0         0.0        False      0.0   \n",
            "\n",
            "                               unit_sales_log  year  month  day  day_of_week  \\\n",
            "date       store_nbr item_nbr                                                  \n",
            "2013-12-31 24        96995                0.0  2013     12   31            1   \n",
            "                     103520               0.0  2013     12   31            1   \n",
            "                     105574               0.0  2013     12   31            1   \n",
            "                     105575               0.0  2013     12   31            1   \n",
            "                     105577               0.0  2013     12   31            1   \n",
            "\n",
            "                               ...  lag_30  rolling_mean_7  rolling_std_7  \\\n",
            "date       store_nbr item_nbr  ...                                          \n",
            "2013-12-31 24        96995     ...     0.0             0.0            0.0   \n",
            "                     103520    ...     0.0             0.0            0.0   \n",
            "                     105574    ...     0.0             0.0            0.0   \n",
            "                     105575    ...     0.0             0.0            0.0   \n",
            "                     105577    ...     0.0             0.0            0.0   \n",
            "\n",
            "                               rolling_mean_30  rolling_std_30  is_weekend  \\\n",
            "date       store_nbr item_nbr                                                \n",
            "2013-12-31 24        96995            0.300000        1.055364           0   \n",
            "                     103520           0.300000        1.055364           0   \n",
            "                     105574           0.300000        1.055364           0   \n",
            "                     105575           0.300000        1.055364           0   \n",
            "                     105577           0.266667        1.048261           0   \n",
            "\n",
            "                               week_of_year  is_month_start  days_from_mid  \\\n",
            "date       store_nbr item_nbr                                                \n",
            "2013-12-31 24        96995                1               0             16   \n",
            "                     103520               1               0             16   \n",
            "                     105574               1               0             16   \n",
            "                     105575               1               0             16   \n",
            "                     105577               1               0             16   \n",
            "\n",
            "                               is_month_end  \n",
            "date       store_nbr item_nbr                \n",
            "2013-12-31 24        96995                1  \n",
            "                     103520               1  \n",
            "                     105574               1  \n",
            "                     105575               1  \n",
            "                     105577               1  \n",
            "\n",
            "[5 rows x 22 columns]\n",
            "\n",
            "DataFrame Info:\n",
            "<class 'pandas.core.frame.DataFrame'>\n",
            "MultiIndex: 920398 entries, (Timestamp('2013-12-31 00:00:00'), np.int64(24), np.int64(96995)) to (Timestamp('2014-03-31 00:00:00'), np.int64(51), np.int64(1466049))\n",
            "Data columns (total 22 columns):\n",
            " #   Column           Non-Null Count   Dtype  \n",
            "---  ------           --------------   -----  \n",
            " 0   index            920398 non-null  int64  \n",
            " 1   id               920398 non-null  int64  \n",
            " 2   unit_sales       920398 non-null  float64\n",
            " 3   onpromotion      920398 non-null  bool   \n",
            " 4   z_score          920398 non-null  float64\n",
            " 5   unit_sales_log   920398 non-null  float64\n",
            " 6   year             920398 non-null  int64  \n",
            " 7   month            920398 non-null  int32  \n",
            " 8   day              920398 non-null  int32  \n",
            " 9   day_of_week      920398 non-null  int32  \n",
            " 10  lag_1            920398 non-null  float64\n",
            " 11  lag_7            920398 non-null  float64\n",
            " 12  lag_30           920398 non-null  float64\n",
            " 13  rolling_mean_7   920398 non-null  float64\n",
            " 14  rolling_std_7    920398 non-null  float64\n",
            " 15  rolling_mean_30  920398 non-null  float64\n",
            " 16  rolling_std_30   920398 non-null  float64\n",
            " 17  is_weekend       920398 non-null  int64  \n",
            " 18  week_of_year     920398 non-null  int64  \n",
            " 19  is_month_start   920398 non-null  int64  \n",
            " 20  days_from_mid    920398 non-null  int32  \n",
            " 21  is_month_end     920398 non-null  int64  \n",
            "dtypes: bool(1), float64(10), int32(4), int64(7)\n",
            "memory usage: 137.9 MB\n"
          ]
        }
      ],
      "source": [
        "# --- Step 1: Data Preparation and Feature Engineering on the full DataFrame ---\n",
        "\n",
        "# Assume your initial DataFrame is named 'df'\n",
        "# Convert 'date' to datetime and set a multi-index for proper group-wise operations\n",
        "df['date'] = pd.to_datetime(df['date'])\n",
        "df = df.set_index(['date', 'store_nbr', 'item_nbr']).sort_index()\n",
        "\n",
        "# Create a copy to avoid a pandas warning\n",
        "df_features = df.copy()\n",
        "\n",
        "# 1. Lag features (previous day, week, month)\n",
        "df_features['lag_1'] = df_features.groupby(['store_nbr', 'item_nbr'])['unit_sales'].shift(1)\n",
        "df_features['lag_7'] = df_features.groupby(['store_nbr', 'item_nbr'])['unit_sales'].shift(7)\n",
        "df_features['lag_30'] = df_features.groupby(['store_nbr', 'item_nbr'])['unit_sales'].shift(30)\n",
        "\n",
        "# 2. Rolling statistics (past 7 and 30 days)\n",
        "# Use .shift(1) before the rolling window to prevent data leakage\n",
        "df_features['rolling_mean_7'] = df_features.groupby(['store_nbr', 'item_nbr'])['unit_sales'].shift(1).rolling(window=7).mean()\n",
        "df_features['rolling_std_7'] = df_features.groupby(['store_nbr', 'item_nbr'])['unit_sales'].shift(1).rolling(window=7).std()\n",
        "df_features['rolling_mean_30'] = df_features.groupby(['store_nbr', 'item_nbr'])['unit_sales'].shift(1).rolling(window=30).mean()\n",
        "df_features['rolling_std_30'] = df_features.groupby(['store_nbr', 'item_nbr'])['unit_sales'].shift(1).rolling(window=30).std()\n",
        "\n",
        "# 3. Calendar/date features\n",
        "# Use .get_level_values() to access the date information from the multi-index.\n",
        "# Use .values where necessary to avoid re-indexing issues.\n",
        "date_index = df_features.index.get_level_values('date')\n",
        "\n",
        "df_features['day'] = date_index.day\n",
        "df_features['day_of_week'] = date_index.dayofweek\n",
        "df_features['is_weekend'] = (df_features['day_of_week'] >= 5).astype(int)\n",
        "df_features['week_of_year'] = date_index.isocalendar().week.values.astype(int)\n",
        "df_features['month'] = date_index.month\n",
        "df_features['is_month_start'] = date_index.is_month_start.astype(int)\n",
        "df_features['days_from_mid'] = (df_features['day'] - 15).abs()\n",
        "df_features['is_month_end'] = date_index.is_month_end.astype(int)\n",
        "\n",
        "# 4. Drop all rows with NaN values created by lags and rolling windows\n",
        "# This will remove the first 30 days for each store-item combination.\n",
        "df_clean = df_features.dropna()\n",
        "\n",
        "# At this point, `df_clean` is our final DataFrame with all engineered features.\n",
        "# It is still multi-indexed.\n",
        "\n",
        "# Display the first few rows and columns to verify\n",
        "print(\"Final DataFrame with Engineered Features:\")\n",
        "print(df_clean.head())\n",
        "print(\"\\nDataFrame Info:\")\n",
        "df_clean.info()"
      ]
    },
    {
      "cell_type": "code",
      "execution_count": 23,
      "metadata": {
        "colab": {
          "base_uri": "https://localhost:8080/",
          "height": 0
        },
        "id": "_x3Z9JYJr3Gs",
        "outputId": "ed1c35cd-8574-4e24-984a-78d105547a51"
      },
      "outputs": [
        {
          "output_type": "execute_result",
          "data": {
            "text/plain": [
              "                               index  id  unit_sales  onpromotion  z_score  \\\n",
              "date       store_nbr item_nbr                                                \n",
              "2013-12-31 24        96995       317   0         0.0        False      0.0   \n",
              "                     103520      359   0         0.0        False      0.0   \n",
              "                     105574      354   0         0.0        False      0.0   \n",
              "                     105575      340   0         0.0        False      0.0   \n",
              "                     105577      362   0         0.0        False      0.0   \n",
              "\n",
              "                               unit_sales_log  year  month  day  day_of_week  \\\n",
              "date       store_nbr item_nbr                                                  \n",
              "2013-12-31 24        96995                0.0  2013     12   31            1   \n",
              "                     103520               0.0  2013     12   31            1   \n",
              "                     105574               0.0  2013     12   31            1   \n",
              "                     105575               0.0  2013     12   31            1   \n",
              "                     105577               0.0  2013     12   31            1   \n",
              "\n",
              "                               ...  lag_30  rolling_mean_7  rolling_std_7  \\\n",
              "date       store_nbr item_nbr  ...                                          \n",
              "2013-12-31 24        96995     ...     0.0             0.0            0.0   \n",
              "                     103520    ...     0.0             0.0            0.0   \n",
              "                     105574    ...     0.0             0.0            0.0   \n",
              "                     105575    ...     0.0             0.0            0.0   \n",
              "                     105577    ...     0.0             0.0            0.0   \n",
              "\n",
              "                               rolling_mean_30  rolling_std_30  is_weekend  \\\n",
              "date       store_nbr item_nbr                                                \n",
              "2013-12-31 24        96995            0.300000        1.055364           0   \n",
              "                     103520           0.300000        1.055364           0   \n",
              "                     105574           0.300000        1.055364           0   \n",
              "                     105575           0.300000        1.055364           0   \n",
              "                     105577           0.266667        1.048261           0   \n",
              "\n",
              "                               week_of_year  is_month_start  days_from_mid  \\\n",
              "date       store_nbr item_nbr                                                \n",
              "2013-12-31 24        96995                1               0             16   \n",
              "                     103520               1               0             16   \n",
              "                     105574               1               0             16   \n",
              "                     105575               1               0             16   \n",
              "                     105577               1               0             16   \n",
              "\n",
              "                               is_month_end  \n",
              "date       store_nbr item_nbr                \n",
              "2013-12-31 24        96995                1  \n",
              "                     103520               1  \n",
              "                     105574               1  \n",
              "                     105575               1  \n",
              "                     105577               1  \n",
              "\n",
              "[5 rows x 22 columns]"
            ],
            "text/html": [
              "\n",
              "  <div id=\"df-efb13ac1-7ca4-42e1-beff-bb88c748a3ee\" class=\"colab-df-container\">\n",
              "    <div>\n",
              "<style scoped>\n",
              "    .dataframe tbody tr th:only-of-type {\n",
              "        vertical-align: middle;\n",
              "    }\n",
              "\n",
              "    .dataframe tbody tr th {\n",
              "        vertical-align: top;\n",
              "    }\n",
              "\n",
              "    .dataframe thead th {\n",
              "        text-align: right;\n",
              "    }\n",
              "</style>\n",
              "<table border=\"1\" class=\"dataframe\">\n",
              "  <thead>\n",
              "    <tr style=\"text-align: right;\">\n",
              "      <th></th>\n",
              "      <th></th>\n",
              "      <th></th>\n",
              "      <th>index</th>\n",
              "      <th>id</th>\n",
              "      <th>unit_sales</th>\n",
              "      <th>onpromotion</th>\n",
              "      <th>z_score</th>\n",
              "      <th>unit_sales_log</th>\n",
              "      <th>year</th>\n",
              "      <th>month</th>\n",
              "      <th>day</th>\n",
              "      <th>day_of_week</th>\n",
              "      <th>...</th>\n",
              "      <th>lag_30</th>\n",
              "      <th>rolling_mean_7</th>\n",
              "      <th>rolling_std_7</th>\n",
              "      <th>rolling_mean_30</th>\n",
              "      <th>rolling_std_30</th>\n",
              "      <th>is_weekend</th>\n",
              "      <th>week_of_year</th>\n",
              "      <th>is_month_start</th>\n",
              "      <th>days_from_mid</th>\n",
              "      <th>is_month_end</th>\n",
              "    </tr>\n",
              "    <tr>\n",
              "      <th>date</th>\n",
              "      <th>store_nbr</th>\n",
              "      <th>item_nbr</th>\n",
              "      <th></th>\n",
              "      <th></th>\n",
              "      <th></th>\n",
              "      <th></th>\n",
              "      <th></th>\n",
              "      <th></th>\n",
              "      <th></th>\n",
              "      <th></th>\n",
              "      <th></th>\n",
              "      <th></th>\n",
              "      <th></th>\n",
              "      <th></th>\n",
              "      <th></th>\n",
              "      <th></th>\n",
              "      <th></th>\n",
              "      <th></th>\n",
              "      <th></th>\n",
              "      <th></th>\n",
              "      <th></th>\n",
              "      <th></th>\n",
              "      <th></th>\n",
              "    </tr>\n",
              "  </thead>\n",
              "  <tbody>\n",
              "    <tr>\n",
              "      <th rowspan=\"5\" valign=\"top\">2013-12-31</th>\n",
              "      <th rowspan=\"5\" valign=\"top\">24</th>\n",
              "      <th>96995</th>\n",
              "      <td>317</td>\n",
              "      <td>0</td>\n",
              "      <td>0.0</td>\n",
              "      <td>False</td>\n",
              "      <td>0.0</td>\n",
              "      <td>0.0</td>\n",
              "      <td>2013</td>\n",
              "      <td>12</td>\n",
              "      <td>31</td>\n",
              "      <td>1</td>\n",
              "      <td>...</td>\n",
              "      <td>0.0</td>\n",
              "      <td>0.0</td>\n",
              "      <td>0.0</td>\n",
              "      <td>0.300000</td>\n",
              "      <td>1.055364</td>\n",
              "      <td>0</td>\n",
              "      <td>1</td>\n",
              "      <td>0</td>\n",
              "      <td>16</td>\n",
              "      <td>1</td>\n",
              "    </tr>\n",
              "    <tr>\n",
              "      <th>103520</th>\n",
              "      <td>359</td>\n",
              "      <td>0</td>\n",
              "      <td>0.0</td>\n",
              "      <td>False</td>\n",
              "      <td>0.0</td>\n",
              "      <td>0.0</td>\n",
              "      <td>2013</td>\n",
              "      <td>12</td>\n",
              "      <td>31</td>\n",
              "      <td>1</td>\n",
              "      <td>...</td>\n",
              "      <td>0.0</td>\n",
              "      <td>0.0</td>\n",
              "      <td>0.0</td>\n",
              "      <td>0.300000</td>\n",
              "      <td>1.055364</td>\n",
              "      <td>0</td>\n",
              "      <td>1</td>\n",
              "      <td>0</td>\n",
              "      <td>16</td>\n",
              "      <td>1</td>\n",
              "    </tr>\n",
              "    <tr>\n",
              "      <th>105574</th>\n",
              "      <td>354</td>\n",
              "      <td>0</td>\n",
              "      <td>0.0</td>\n",
              "      <td>False</td>\n",
              "      <td>0.0</td>\n",
              "      <td>0.0</td>\n",
              "      <td>2013</td>\n",
              "      <td>12</td>\n",
              "      <td>31</td>\n",
              "      <td>1</td>\n",
              "      <td>...</td>\n",
              "      <td>0.0</td>\n",
              "      <td>0.0</td>\n",
              "      <td>0.0</td>\n",
              "      <td>0.300000</td>\n",
              "      <td>1.055364</td>\n",
              "      <td>0</td>\n",
              "      <td>1</td>\n",
              "      <td>0</td>\n",
              "      <td>16</td>\n",
              "      <td>1</td>\n",
              "    </tr>\n",
              "    <tr>\n",
              "      <th>105575</th>\n",
              "      <td>340</td>\n",
              "      <td>0</td>\n",
              "      <td>0.0</td>\n",
              "      <td>False</td>\n",
              "      <td>0.0</td>\n",
              "      <td>0.0</td>\n",
              "      <td>2013</td>\n",
              "      <td>12</td>\n",
              "      <td>31</td>\n",
              "      <td>1</td>\n",
              "      <td>...</td>\n",
              "      <td>0.0</td>\n",
              "      <td>0.0</td>\n",
              "      <td>0.0</td>\n",
              "      <td>0.300000</td>\n",
              "      <td>1.055364</td>\n",
              "      <td>0</td>\n",
              "      <td>1</td>\n",
              "      <td>0</td>\n",
              "      <td>16</td>\n",
              "      <td>1</td>\n",
              "    </tr>\n",
              "    <tr>\n",
              "      <th>105577</th>\n",
              "      <td>362</td>\n",
              "      <td>0</td>\n",
              "      <td>0.0</td>\n",
              "      <td>False</td>\n",
              "      <td>0.0</td>\n",
              "      <td>0.0</td>\n",
              "      <td>2013</td>\n",
              "      <td>12</td>\n",
              "      <td>31</td>\n",
              "      <td>1</td>\n",
              "      <td>...</td>\n",
              "      <td>0.0</td>\n",
              "      <td>0.0</td>\n",
              "      <td>0.0</td>\n",
              "      <td>0.266667</td>\n",
              "      <td>1.048261</td>\n",
              "      <td>0</td>\n",
              "      <td>1</td>\n",
              "      <td>0</td>\n",
              "      <td>16</td>\n",
              "      <td>1</td>\n",
              "    </tr>\n",
              "  </tbody>\n",
              "</table>\n",
              "<p>5 rows × 22 columns</p>\n",
              "</div>\n",
              "    <div class=\"colab-df-buttons\">\n",
              "\n",
              "  <div class=\"colab-df-container\">\n",
              "    <button class=\"colab-df-convert\" onclick=\"convertToInteractive('df-efb13ac1-7ca4-42e1-beff-bb88c748a3ee')\"\n",
              "            title=\"Convert this dataframe to an interactive table.\"\n",
              "            style=\"display:none;\">\n",
              "\n",
              "  <svg xmlns=\"http://www.w3.org/2000/svg\" height=\"24px\" viewBox=\"0 -960 960 960\">\n",
              "    <path d=\"M120-120v-720h720v720H120Zm60-500h600v-160H180v160Zm220 220h160v-160H400v160Zm0 220h160v-160H400v160ZM180-400h160v-160H180v160Zm440 0h160v-160H620v160ZM180-180h160v-160H180v160Zm440 0h160v-160H620v160Z\"/>\n",
              "  </svg>\n",
              "    </button>\n",
              "\n",
              "  <style>\n",
              "    .colab-df-container {\n",
              "      display:flex;\n",
              "      gap: 12px;\n",
              "    }\n",
              "\n",
              "    .colab-df-convert {\n",
              "      background-color: #E8F0FE;\n",
              "      border: none;\n",
              "      border-radius: 50%;\n",
              "      cursor: pointer;\n",
              "      display: none;\n",
              "      fill: #1967D2;\n",
              "      height: 32px;\n",
              "      padding: 0 0 0 0;\n",
              "      width: 32px;\n",
              "    }\n",
              "\n",
              "    .colab-df-convert:hover {\n",
              "      background-color: #E2EBFA;\n",
              "      box-shadow: 0px 1px 2px rgba(60, 64, 67, 0.3), 0px 1px 3px 1px rgba(60, 64, 67, 0.15);\n",
              "      fill: #174EA6;\n",
              "    }\n",
              "\n",
              "    .colab-df-buttons div {\n",
              "      margin-bottom: 4px;\n",
              "    }\n",
              "\n",
              "    [theme=dark] .colab-df-convert {\n",
              "      background-color: #3B4455;\n",
              "      fill: #D2E3FC;\n",
              "    }\n",
              "\n",
              "    [theme=dark] .colab-df-convert:hover {\n",
              "      background-color: #434B5C;\n",
              "      box-shadow: 0px 1px 3px 1px rgba(0, 0, 0, 0.15);\n",
              "      filter: drop-shadow(0px 1px 2px rgba(0, 0, 0, 0.3));\n",
              "      fill: #FFFFFF;\n",
              "    }\n",
              "  </style>\n",
              "\n",
              "    <script>\n",
              "      const buttonEl =\n",
              "        document.querySelector('#df-efb13ac1-7ca4-42e1-beff-bb88c748a3ee button.colab-df-convert');\n",
              "      buttonEl.style.display =\n",
              "        google.colab.kernel.accessAllowed ? 'block' : 'none';\n",
              "\n",
              "      async function convertToInteractive(key) {\n",
              "        const element = document.querySelector('#df-efb13ac1-7ca4-42e1-beff-bb88c748a3ee');\n",
              "        const dataTable =\n",
              "          await google.colab.kernel.invokeFunction('convertToInteractive',\n",
              "                                                    [key], {});\n",
              "        if (!dataTable) return;\n",
              "\n",
              "        const docLinkHtml = 'Like what you see? Visit the ' +\n",
              "          '<a target=\"_blank\" href=https://colab.research.google.com/notebooks/data_table.ipynb>data table notebook</a>'\n",
              "          + ' to learn more about interactive tables.';\n",
              "        element.innerHTML = '';\n",
              "        dataTable['output_type'] = 'display_data';\n",
              "        await google.colab.output.renderOutput(dataTable, element);\n",
              "        const docLink = document.createElement('div');\n",
              "        docLink.innerHTML = docLinkHtml;\n",
              "        element.appendChild(docLink);\n",
              "      }\n",
              "    </script>\n",
              "  </div>\n",
              "\n",
              "\n",
              "    <div id=\"df-625c8018-438d-446e-b7cd-fdff0c725a84\">\n",
              "      <button class=\"colab-df-quickchart\" onclick=\"quickchart('df-625c8018-438d-446e-b7cd-fdff0c725a84')\"\n",
              "                title=\"Suggest charts\"\n",
              "                style=\"display:none;\">\n",
              "\n",
              "<svg xmlns=\"http://www.w3.org/2000/svg\" height=\"24px\"viewBox=\"0 0 24 24\"\n",
              "     width=\"24px\">\n",
              "    <g>\n",
              "        <path d=\"M19 3H5c-1.1 0-2 .9-2 2v14c0 1.1.9 2 2 2h14c1.1 0 2-.9 2-2V5c0-1.1-.9-2-2-2zM9 17H7v-7h2v7zm4 0h-2V7h2v10zm4 0h-2v-4h2v4z\"/>\n",
              "    </g>\n",
              "</svg>\n",
              "      </button>\n",
              "\n",
              "<style>\n",
              "  .colab-df-quickchart {\n",
              "      --bg-color: #E8F0FE;\n",
              "      --fill-color: #1967D2;\n",
              "      --hover-bg-color: #E2EBFA;\n",
              "      --hover-fill-color: #174EA6;\n",
              "      --disabled-fill-color: #AAA;\n",
              "      --disabled-bg-color: #DDD;\n",
              "  }\n",
              "\n",
              "  [theme=dark] .colab-df-quickchart {\n",
              "      --bg-color: #3B4455;\n",
              "      --fill-color: #D2E3FC;\n",
              "      --hover-bg-color: #434B5C;\n",
              "      --hover-fill-color: #FFFFFF;\n",
              "      --disabled-bg-color: #3B4455;\n",
              "      --disabled-fill-color: #666;\n",
              "  }\n",
              "\n",
              "  .colab-df-quickchart {\n",
              "    background-color: var(--bg-color);\n",
              "    border: none;\n",
              "    border-radius: 50%;\n",
              "    cursor: pointer;\n",
              "    display: none;\n",
              "    fill: var(--fill-color);\n",
              "    height: 32px;\n",
              "    padding: 0;\n",
              "    width: 32px;\n",
              "  }\n",
              "\n",
              "  .colab-df-quickchart:hover {\n",
              "    background-color: var(--hover-bg-color);\n",
              "    box-shadow: 0 1px 2px rgba(60, 64, 67, 0.3), 0 1px 3px 1px rgba(60, 64, 67, 0.15);\n",
              "    fill: var(--button-hover-fill-color);\n",
              "  }\n",
              "\n",
              "  .colab-df-quickchart-complete:disabled,\n",
              "  .colab-df-quickchart-complete:disabled:hover {\n",
              "    background-color: var(--disabled-bg-color);\n",
              "    fill: var(--disabled-fill-color);\n",
              "    box-shadow: none;\n",
              "  }\n",
              "\n",
              "  .colab-df-spinner {\n",
              "    border: 2px solid var(--fill-color);\n",
              "    border-color: transparent;\n",
              "    border-bottom-color: var(--fill-color);\n",
              "    animation:\n",
              "      spin 1s steps(1) infinite;\n",
              "  }\n",
              "\n",
              "  @keyframes spin {\n",
              "    0% {\n",
              "      border-color: transparent;\n",
              "      border-bottom-color: var(--fill-color);\n",
              "      border-left-color: var(--fill-color);\n",
              "    }\n",
              "    20% {\n",
              "      border-color: transparent;\n",
              "      border-left-color: var(--fill-color);\n",
              "      border-top-color: var(--fill-color);\n",
              "    }\n",
              "    30% {\n",
              "      border-color: transparent;\n",
              "      border-left-color: var(--fill-color);\n",
              "      border-top-color: var(--fill-color);\n",
              "      border-right-color: var(--fill-color);\n",
              "    }\n",
              "    40% {\n",
              "      border-color: transparent;\n",
              "      border-right-color: var(--fill-color);\n",
              "      border-top-color: var(--fill-color);\n",
              "    }\n",
              "    60% {\n",
              "      border-color: transparent;\n",
              "      border-right-color: var(--fill-color);\n",
              "    }\n",
              "    80% {\n",
              "      border-color: transparent;\n",
              "      border-right-color: var(--fill-color);\n",
              "      border-bottom-color: var(--fill-color);\n",
              "    }\n",
              "    90% {\n",
              "      border-color: transparent;\n",
              "      border-bottom-color: var(--fill-color);\n",
              "    }\n",
              "  }\n",
              "</style>\n",
              "\n",
              "      <script>\n",
              "        async function quickchart(key) {\n",
              "          const quickchartButtonEl =\n",
              "            document.querySelector('#' + key + ' button');\n",
              "          quickchartButtonEl.disabled = true;  // To prevent multiple clicks.\n",
              "          quickchartButtonEl.classList.add('colab-df-spinner');\n",
              "          try {\n",
              "            const charts = await google.colab.kernel.invokeFunction(\n",
              "                'suggestCharts', [key], {});\n",
              "          } catch (error) {\n",
              "            console.error('Error during call to suggestCharts:', error);\n",
              "          }\n",
              "          quickchartButtonEl.classList.remove('colab-df-spinner');\n",
              "          quickchartButtonEl.classList.add('colab-df-quickchart-complete');\n",
              "        }\n",
              "        (() => {\n",
              "          let quickchartButtonEl =\n",
              "            document.querySelector('#df-625c8018-438d-446e-b7cd-fdff0c725a84 button');\n",
              "          quickchartButtonEl.style.display =\n",
              "            google.colab.kernel.accessAllowed ? 'block' : 'none';\n",
              "        })();\n",
              "      </script>\n",
              "    </div>\n",
              "\n",
              "    </div>\n",
              "  </div>\n"
            ],
            "application/vnd.google.colaboratory.intrinsic+json": {
              "type": "dataframe",
              "variable_name": "df_clean"
            }
          },
          "metadata": {},
          "execution_count": 23
        }
      ],
      "source": [
        "df_clean.head()"
      ]
    },
    {
      "cell_type": "code",
      "execution_count": 24,
      "metadata": {
        "colab": {
          "base_uri": "https://localhost:8080/",
          "height": 0
        },
        "id": "c1ZlS_11roDi",
        "outputId": "685d3cb1-dc4b-41ab-efae-8362441942b5"
      },
      "outputs": [
        {
          "output_type": "display_data",
          "data": {
            "text/plain": [
              "<Figure size 1400x500 with 1 Axes>"
            ],
            "image/png": "[encoded data removed]"
          },
          "metadata": {}
        }
      ],
      "source": [
        "# First, select a specific store and item to visualize.\n",
        "store_id = 24\n",
        "item_id = 105574\n",
        "\n",
        "# Use .loc to select the data for this specific store-item combination.\n",
        "# The index will automatically be the 'date' level, which is perfect for plotting.\n",
        "try:\n",
        "    single_series_df = df_clean.loc[(slice(None), store_id, item_id), :]\n",
        "\n",
        "    # Now, you can use the same plotting code on this smaller DataFrame\n",
        "    plt.figure(figsize=(14, 5))\n",
        "    single_series_df[['unit_sales', 'rolling_mean_7', 'rolling_std_7']].plot(ax=plt.gca())\n",
        "\n",
        "    plt.title(f'Sales for Store {store_id}, Item {item_id} with Rolling Features')\n",
        "    plt.xlabel('Date')\n",
        "    plt.ylabel('Unit Sales')\n",
        "    plt.legend()\n",
        "    plt.grid(True)\n",
        "    plt.show()\n",
        "\n",
        "except KeyError:\n",
        "    print(f\"No data found for Store {store_id}, Item {item_id}. Please select a different combination.\")"
      ]
    },
    {
      "cell_type": "markdown",
      "metadata": {
        "id": "uHHXu_PNG1m0"
      },
      "source": [
        "###**Model**"
      ]
    },
    {
      "cell_type": "markdown",
      "metadata": {
        "id": "g3XlVRVr75Sd"
      },
      "source": [
        "####**Data Splitting**"
      ]
    },
    {
      "cell_type": "code",
      "execution_count": 25,
      "metadata": {
        "colab": {
          "base_uri": "https://localhost:8080/"
        },
        "id": "M4BXbU-6dm-B",
        "outputId": "5ad94401-35b5-4107-a7c2-d11c5096fa05"
      },
      "outputs": [
        {
          "output_type": "stream",
          "name": "stdout",
          "text": [
            "<class 'pandas.core.frame.DataFrame'>\n",
            "MultiIndex: 920398 entries, (Timestamp('2013-12-31 00:00:00'), np.int64(24), np.int64(96995)) to (Timestamp('2014-03-31 00:00:00'), np.int64(51), np.int64(1466049))\n",
            "Data columns (total 22 columns):\n",
            " #   Column           Non-Null Count   Dtype  \n",
            "---  ------           --------------   -----  \n",
            " 0   index            920398 non-null  int64  \n",
            " 1   id               920398 non-null  int64  \n",
            " 2   unit_sales       920398 non-null  float64\n",
            " 3   onpromotion      920398 non-null  int64  \n",
            " 4   z_score          920398 non-null  float64\n",
            " 5   unit_sales_log   920398 non-null  float64\n",
            " 6   year             920398 non-null  int64  \n",
            " 7   month            920398 non-null  int32  \n",
            " 8   day              920398 non-null  int32  \n",
            " 9   day_of_week      920398 non-null  int32  \n",
            " 10  lag_1            920398 non-null  float64\n",
            " 11  lag_7            920398 non-null  float64\n",
            " 12  lag_30           920398 non-null  float64\n",
            " 13  rolling_mean_7   920398 non-null  float64\n",
            " 14  rolling_std_7    920398 non-null  float64\n",
            " 15  rolling_mean_30  920398 non-null  float64\n",
            " 16  rolling_std_30   920398 non-null  float64\n",
            " 17  is_weekend       920398 non-null  int64  \n",
            " 18  week_of_year     920398 non-null  int64  \n",
            " 19  is_month_start   920398 non-null  int64  \n",
            " 20  days_from_mid    920398 non-null  int32  \n",
            " 21  is_month_end     920398 non-null  int64  \n",
            "dtypes: float64(10), int32(4), int64(8)\n",
            "memory usage: 144.0 MB\n"
          ]
        },
        {
          "output_type": "stream",
          "name": "stderr",
          "text": [
            "/tmp/ipython-input-4262303530.py:1: SettingWithCopyWarning: \n",
            "A value is trying to be set on a copy of a slice from a DataFrame.\n",
            "Try using .loc[row_indexer,col_indexer] = value instead\n",
            "\n",
            "See the caveats in the documentation: https://pandas.pydata.org/pandas-docs/stable/user_guide/indexing.html#returning-a-view-versus-a-copy\n",
            "  df_clean['onpromotion'] = df_clean['onpromotion'].astype(int)\n"
          ]
        }
      ],
      "source": [
        "df_clean['onpromotion'] = df_clean['onpromotion'].astype(int)\n",
        "df_clean.info()"
      ]
    },
    {
      "cell_type": "code",
      "execution_count": 26,
      "metadata": {
        "colab": {
          "base_uri": "https://localhost:8080/"
        },
        "id": "T8it6ucYsl_J",
        "outputId": "04b05617-c531-4335-fe4d-5aff45119f88"
      },
      "outputs": [
        {
          "output_type": "stream",
          "name": "stdout",
          "text": [
            "Training rows: 581663\n",
            "Testing rows: 329348\n",
            "\n",
            "Training Features (X_train) columns: ['store_nbr', 'item_nbr', 'index', 'onpromotion', 'lag_1', 'lag_7', 'lag_30', 'rolling_mean_7', 'rolling_std_7', 'rolling_mean_30', 'rolling_std_30', 'is_weekend', 'week_of_year', 'is_month_start', 'days_from_mid', 'is_month_end']\n",
            "\n",
            "X_train shape: (581663, 16)\n",
            "y_train shape: (581663,)\n",
            "X_test shape: (329348, 16)\n",
            "y_test shape: (329348,)\n"
          ]
        }
      ],
      "source": [
        "# Define a min and cutoff date for training vs. testing\n",
        "min_date = '2014-01-01'\n",
        "cutoff_date = '2014-03-01'\n",
        "\n",
        "# Split the DataFrame chronologically.\n",
        "train = df_clean.loc[(df_clean.index.get_level_values('date') >= min_date) & (df_clean.index.get_level_values('date') < cutoff_date)]\n",
        "test  = df_clean.loc[df_clean.index.get_level_values('date') >= cutoff_date]\n",
        "\n",
        "# Convert the multi-index levels (date, store_nbr, item_nbr) into regular columns.\n",
        "train_df = train.reset_index()\n",
        "test_df = test.reset_index()\n",
        "\n",
        "# Define the target variable\n",
        "y_train = train_df['unit_sales']\n",
        "y_test  = test_df['unit_sales']\n",
        "\n",
        "# Define the features.\n",
        "# 'unit_sales' is the target and 'date' is not used as a direct feature\n",
        "# for a supervised learning model like XGBoost.\n",
        "feature_cols = [col for col in train_df.columns if col not in ['unit_sales', 'date', 'id', 'z_score', 'unit_sales_log', 'year', 'month', 'day', 'day_of_week']]\n",
        "\n",
        "X_train = train_df[feature_cols]\n",
        "X_test  = test_df[feature_cols]\n",
        "\n",
        "# Print the final shapes and columns to confirm everything is correct\n",
        "print(\"Training rows:\", len(train_df))\n",
        "print(\"Testing rows:\", len(test_df))\n",
        "print(\"\\nTraining Features (X_train) columns:\", X_train.columns.tolist())\n",
        "print(\"\\nX_train shape:\", X_train.shape)\n",
        "print(\"y_train shape:\", y_train.shape)\n",
        "print(\"X_test shape:\", X_test.shape)\n",
        "print(\"y_test shape:\", y_test.shape)"
      ]
    },
    {
      "cell_type": "markdown",
      "metadata": {
        "id": "bqLlD9VPzJiP"
      },
      "source": [
        "####**Implementing XGBoost for Time-Series Forecasting**"
      ]
    },
    {
      "cell_type": "markdown",
      "metadata": {
        "id": "KGx0SJwkzWVi"
      },
      "source": [
        "**Plotting Actual vs Predicted Values and Metrics**"
      ]
    },
    {
      "cell_type": "markdown",
      "metadata": {
        "id": "llgVRc4LQDuP"
      },
      "source": [
        "#####**Basic Model**"
      ]
    },
    {
      "cell_type": "code",
      "execution_count": 27,
      "metadata": {
        "id": "P5CPBZxcgjSU"
      },
      "outputs": [],
      "source": [
        "# Initialize XGBoost regressor\n",
        "baseline_xgb = xgb.XGBRegressor(random_state=42)"
      ]
    },
    {
      "cell_type": "code",
      "execution_count": 28,
      "metadata": {
        "id": "H-v_UFkAHZLQ"
      },
      "outputs": [],
      "source": [
        "# Train the XGBoost model\n",
        "baseline_xgb.fit(X_train, y_train)\n",
        "\n",
        "# Make predictions on the test set\n",
        "y_pred = baseline_xgb.predict(X_test)"
      ]
    },
    {
      "cell_type": "code",
      "execution_count": 29,
      "metadata": {
        "id": "s4nWs4O3zZJH"
      },
      "outputs": [],
      "source": [
        "# We'll need the original test_df to get the date and store/item information\n",
        "# Remember, test_df was created by calling test.reset_index()\n",
        "\n",
        "def plot_single_series_forecast(store_id, item_id, model, name='model'):\n",
        "    \"\"\"\n",
        "    Plots the actual vs. predicted sales for a single store-item combination.\n",
        "\n",
        "    \"\"\"\n",
        "    # Create a boolean mask to filter the test_df for the specific series\n",
        "    mask = (test_df['store_nbr'] == store_id) & (test_df['item_nbr'] == item_id)\n",
        "\n",
        "    # Filter the actual values (y_test)\n",
        "    y_test_series = y_test[mask]\n",
        "\n",
        "    # Generate predictions for the entire test set (if not already done)\n",
        "    y_pred_all = model.predict(X_test)\n",
        "\n",
        "    # Filter the predicted values for the specific series\n",
        "    y_pred_series = y_pred_all[mask.values]\n",
        "\n",
        "    # Get the corresponding dates for the x-axis\n",
        "    dates = test_df[mask]['date']\n",
        "\n",
        "    if dates.empty:\n",
        "        print(f\"No data found for Store {store_id}, Item {item_id} in the test set.\")\n",
        "        return\n",
        "\n",
        "    # Create the plot\n",
        "    plt.figure(figsize=(15, 6))\n",
        "    plt.plot(dates, y_test_series.values, label='Actual Sales')\n",
        "    plt.plot(dates, y_pred_series, label=f'Predicted Sales by {name}', color='red')\n",
        "\n",
        "    plt.title(f'Actual vs Predicted Sales for Store {store_id}, Item {item_id}')\n",
        "    plt.xlabel('Date')\n",
        "    plt.ylabel('Unit Sales')\n",
        "    plt.legend()\n",
        "    plt.grid(True)\n",
        "    plt.tight_layout()\n",
        "    plt.show()\n"
      ]
    },
    {
      "cell_type": "code",
      "execution_count": 30,
      "metadata": {
        "colab": {
          "base_uri": "https://localhost:8080/",
          "height": 0
        },
        "id": "g8llUiPa386j",
        "outputId": "5d88c838-d2fe-494e-9c58-0af3342cb5e9"
      },
      "outputs": [
        {
          "output_type": "display_data",
          "data": {
            "text/plain": [
              "<Figure size 1500x600 with 1 Axes>"
            ],
            "image/png": "[encoded data removed]"
          },
          "metadata": {}
        }
      ],
      "source": [
        "store_id = 51\n",
        "item_id = 1466049\n",
        "\n",
        "# Call the new plotting function\n",
        "plot_single_series_forecast(store_id, item_id, baseline_xgb, name='Baseline XGBoost')"
      ]
    },
    {
      "cell_type": "code",
      "execution_count": 31,
      "metadata": {
        "id": "B2EJT-4KojdS"
      },
      "outputs": [],
      "source": [
        "# Model Evaluation\n",
        "\n",
        "def forecast_metrics(y_true, y_pred):\n",
        "    \"\"\"\n",
        "    Compute a common set of forecast-error statistics.\n",
        "\n",
        "    Parameters\n",
        "    ----------\n",
        "    y_true : 1-D array-like\n",
        "        Actual (ground-truth) values.\n",
        "    y_pred : 1-D array-like\n",
        "        Forecasted values.\n",
        "\n",
        "    Returns\n",
        "    -------\n",
        "    dict\n",
        "        Keys: 'MAE', 'Bias', 'MAD', 'rMAD', 'MAPE', 'RMSE'\n",
        "    \"\"\"\n",
        "    y_true = np.asarray(y_true, dtype=float).flatten()\n",
        "    y_pred = np.asarray(y_pred, dtype=float).flatten()\n",
        "\n",
        "    # basic errors\n",
        "    errors       = y_true - y_pred\n",
        "    abs_errors   = np.abs(errors)\n",
        "    pct_errors   = abs_errors / np.where(y_true == 0, np.nan, y_true)   # avoid ÷0\n",
        "\n",
        "    # core statistics\n",
        "    mae   = abs_errors.mean()\n",
        "    bias  = errors.mean()\n",
        "    rmse  = np.sqrt((errors ** 2).mean())\n",
        "\n",
        "    # MAD of the ACTUAL series (dispersion of demand itself)\n",
        "    mad   = np.abs(y_true - y_true.mean()).mean()\n",
        "\n",
        "    # Relative MAD = MAE divided by MAD  (how big the forecast error is vs. “typical” variation)\n",
        "    rmad  = mae / mad if mad else np.nan\n",
        "\n",
        "    # Mean Absolute Percentage Error\n",
        "    mape  = np.nanmean(pct_errors) * 100   # expressed in %\n",
        "\n",
        "    return {\n",
        "        \"MAE\" : mae,\n",
        "        \"Bias\": bias,\n",
        "        \"MAD\" : mad,\n",
        "        \"rMAD\": rmad,\n",
        "        \"MAPE\": mape,\n",
        "        \"RMSE\": rmse\n",
        "    }\n"
      ]
    },
    {
      "cell_type": "code",
      "execution_count": 32,
      "metadata": {
        "colab": {
          "base_uri": "https://localhost:8080/"
        },
        "id": "ar7GACrTotcf",
        "outputId": "357c134f-a08f-46a2-d9fc-b64135425d28"
      },
      "outputs": [
        {
          "output_type": "stream",
          "name": "stdout",
          "text": [
            "Baseline Model Forecast Metrics:\n",
            "MAE: 0.8262\n",
            "Bias: -0.0084\n",
            "MAD: 0.8067\n",
            "rMAD: 1.0242\n",
            "MAPE: 86.7754\n",
            "RMSE: 3.7746\n"
          ]
        }
      ],
      "source": [
        "# Compute the forecast metrics using your function\n",
        "baseline_metrics = forecast_metrics(y_true=y_test, y_pred=y_pred)\n",
        "\n",
        "# Print the results in a readable format\n",
        "print(\"Baseline Model Forecast Metrics:\")\n",
        "for metric, value in baseline_metrics.items():\n",
        "    print(f\"{metric}: {value:.4f}\")"
      ]
    },
    {
      "cell_type": "markdown",
      "source": [
        "#**Week3**"
      ],
      "metadata": {
        "id": "b4bXALMMZ044"
      }
    },
    {
      "cell_type": "markdown",
      "metadata": {
        "id": "RtOEZTofP9Oj"
      },
      "source": [
        "#####**Hypertuned Model**"
      ]
    },
    {
      "cell_type": "code",
      "execution_count": 33,
      "metadata": {
        "colab": {
          "base_uri": "https://localhost:8080/"
        },
        "id": "nM_73QZ0K0AV",
        "outputId": "e93facfa-a68f-4da1-8ce9-bebb35fe19e7"
      },
      "outputs": [
        {
          "output_type": "stream",
          "name": "stdout",
          "text": [
            "Fitting 3 folds for each of 48 candidates, totalling 144 fits\n",
            "Best params: {'colsample_bytree': 0.8, 'learning_rate': 0.01, 'max_depth': 3, 'n_estimators': 100, 'subsample': 1.0}\n"
          ]
        }
      ],
      "source": [
        "# Define the hyperparameter grid to search over\n",
        "param_grid = {\n",
        "    'n_estimators': [100, 200],       # Number of boosting rounds (trees)\n",
        "    'max_depth': [3, 4],                    # Maximum depth of each tree\n",
        "    'learning_rate': [0.01, 0.1],     # Step size shrinkage for each boosting step\n",
        "    'subsample': [0.8, 1.0],               # Fraction of samples used per tree\n",
        "    'colsample_bytree': [0.5, 0.8]    # Fraction of features used per tree\n",
        "}\n",
        "\n",
        "tscv = TimeSeriesSplit(n_splits=3)  # split chronologically\n",
        "\n",
        "# Initialize GridSearchCV to find the best combination of hyperparameters\n",
        "grid_search = GridSearchCV(\n",
        "    estimator=baseline_xgb,           # The XGBoost model to tune\n",
        "    param_grid=param_grid,            # The hyperparameter grid defined above\n",
        "    cv=tscv,                          # use TimeSeriesSplit(instead of standard CV) ensures that past data is used to predict future data, like in real forecasting.\n",
        "    scoring='neg_mean_absolute_error',# Use negative MAE as scoring (GridSearch maximizes score)\n",
        "    verbose=1                         # Print progress\n",
        ")\n",
        "\n",
        "# Fit GridSearchCV on the training data\n",
        "grid_search.fit(X_train, y_train)\n",
        "\n",
        "# Best parameters\n",
        "best_params = grid_search.best_params_\n",
        "\n",
        "# Print the best hyperparameters found\n",
        "print(\"Best params:\", grid_search.best_params_)\n"
      ]
    },
    {
      "cell_type": "code",
      "execution_count": 33,
      "metadata": {
        "id": "CSzyiVezONGe"
      },
      "outputs": [],
      "source": [
        "# Initialize XGBoost regressor\n",
        "'''\n",
        "hypertuned_xgb = xgb.XGBRegressor(\n",
        "    objective='reg:squarederror',\n",
        "    n_estimators=best_params[\"n_estimators\"],\n",
        "    max_depth=best_params[\"max_depth\"],\n",
        "    learning_rate=best_params[\"learning_rate\"],\n",
        "    subsample=best_params[\"subsample\"],\n",
        "    colsample_bytree=best_params[\"colsample_bytree\"],\n",
        "    random_state=42\n",
        ")\n",
        "'''\n",
        "hypertuned_xgb = xgb.XGBRegressor(\n",
        "    objective='reg:squarederror',\n",
        "    n_estimators=100,\n",
        "    max_depth=3,\n",
        "    learning_rate=0.01,\n",
        "    subsample=1.0,\n",
        "    colsample_bytree=0.8,\n",
        "    random_state=42\n",
        ")"
      ]
    },
    {
      "cell_type": "code",
      "execution_count": 34,
      "metadata": {
        "id": "fFYZkXt4O8vq"
      },
      "outputs": [],
      "source": [
        "# Train the XGBoost model\n",
        "hypertuned_xgb.fit(X_train, y_train)\n",
        "\n",
        "# Make predictions on the test set\n",
        "y_pred_tuned = hypertuned_xgb.predict(X_test)"
      ]
    },
    {
      "cell_type": "code",
      "execution_count": 35,
      "metadata": {
        "colab": {
          "base_uri": "https://localhost:8080/",
          "height": 443
        },
        "id": "1R0Ot0lcq-BO",
        "outputId": "24355135-8e66-4668-d203-aaed736f0fbd"
      },
      "outputs": [
        {
          "output_type": "display_data",
          "data": {
            "text/plain": [
              "<Figure size 1500x600 with 1 Axes>"
            ],
            "image/png": "[encoded data removed]"
          },
          "metadata": {}
        }
      ],
      "source": [
        "store_id = 51\n",
        "item_id = 1466049\n",
        "\n",
        "# Call the new plotting function\n",
        "plot_single_series_forecast(store_id, item_id, hypertuned_xgb, name='Hypertuned XGBoost')"
      ]
    },
    {
      "cell_type": "code",
      "execution_count": 36,
      "metadata": {
        "colab": {
          "base_uri": "https://localhost:8080/"
        },
        "id": "TYa6yYVMQeVZ",
        "outputId": "df3f227a-d895-411d-c0c4-c79d0d3c32ef"
      },
      "outputs": [
        {
          "output_type": "stream",
          "name": "stdout",
          "text": [
            "MAE: 0.76\n",
            "Bias: 0.05\n",
            "MAD: 0.81\n",
            "rMAD: 0.94\n",
            "MAPE: 85.24\n",
            "RMSE: 3.65\n"
          ]
        }
      ],
      "source": [
        "# Print the results in a readable format\n",
        "tuned_metrics = forecast_metrics(y_test, y_pred_tuned)\n",
        "for k, v in tuned_metrics.items():\n",
        "    print(f\"{k}: {v:,.2f}\")"
      ]
    },
    {
      "cell_type": "markdown",
      "metadata": {
        "id": "VuYbrr78h6cQ"
      },
      "source": [
        "####**MLflow**"
      ]
    },
    {
      "cell_type": "code",
      "execution_count": 37,
      "metadata": {
        "colab": {
          "base_uri": "https://localhost:8080/"
        },
        "id": "c8tBL0MUkEbZ",
        "outputId": "8166baa9-cad4-472f-afd8-c37425196462",
        "collapsed": true
      },
      "outputs": [
        {
          "output_type": "stream",
          "name": "stdout",
          "text": [
            "Drive already mounted at /content/drive; to attempt to forcibly remount, call drive.mount(\"/content/drive\", force_remount=True).\n"
          ]
        },
        {
          "output_type": "stream",
          "name": "stderr",
          "text": [
            "WARNING:root:Malformed experiment 'mlruns'. Detailed error Yaml file '/content/drive/MyDrive/mlflow_results/mlruns/meta.yaml' does not exist.\n",
            "Traceback (most recent call last):\n",
            "  File \"/usr/local/lib/python3.12/dist-packages/mlflow/store/tracking/file_store.py\", line 366, in search_experiments\n",
            "    exp = self._get_experiment(exp_id, view_type)\n",
            "          ^^^^^^^^^^^^^^^^^^^^^^^^^^^^^^^^^^^^^^^\n",
            "  File \"/usr/local/lib/python3.12/dist-packages/mlflow/store/tracking/file_store.py\", line 464, in _get_experiment\n",
            "    meta = FileStore._read_yaml(experiment_dir, FileStore.META_DATA_FILE_NAME)\n",
            "           ^^^^^^^^^^^^^^^^^^^^^^^^^^^^^^^^^^^^^^^^^^^^^^^^^^^^^^^^^^^^^^^^^^^\n",
            "  File \"/usr/local/lib/python3.12/dist-packages/mlflow/store/tracking/file_store.py\", line 1634, in _read_yaml\n",
            "    return _read_helper(root, file_name, attempts_remaining=retries)\n",
            "           ^^^^^^^^^^^^^^^^^^^^^^^^^^^^^^^^^^^^^^^^^^^^^^^^^^^^^^^^^\n",
            "  File \"/usr/local/lib/python3.12/dist-packages/mlflow/store/tracking/file_store.py\", line 1627, in _read_helper\n",
            "    result = read_yaml(root, file_name)\n",
            "             ^^^^^^^^^^^^^^^^^^^^^^^^^^\n",
            "  File \"/usr/local/lib/python3.12/dist-packages/mlflow/utils/yaml_utils.py\", line 107, in read_yaml\n",
            "    raise MissingConfigException(f\"Yaml file '{file_path}' does not exist.\")\n",
            "mlflow.exceptions.MissingConfigException: Yaml file '/content/drive/MyDrive/mlflow_results/mlruns/meta.yaml' does not exist.\n",
            "WARNING:root:Malformed experiment 'mlruns'. Detailed error Yaml file '/content/drive/MyDrive/mlflow_results/mlruns/meta.yaml' does not exist.\n",
            "Traceback (most recent call last):\n",
            "  File \"/usr/local/lib/python3.12/dist-packages/mlflow/store/tracking/file_store.py\", line 366, in search_experiments\n",
            "    exp = self._get_experiment(exp_id, view_type)\n",
            "          ^^^^^^^^^^^^^^^^^^^^^^^^^^^^^^^^^^^^^^^\n",
            "  File \"/usr/local/lib/python3.12/dist-packages/mlflow/store/tracking/file_store.py\", line 464, in _get_experiment\n",
            "    meta = FileStore._read_yaml(experiment_dir, FileStore.META_DATA_FILE_NAME)\n",
            "           ^^^^^^^^^^^^^^^^^^^^^^^^^^^^^^^^^^^^^^^^^^^^^^^^^^^^^^^^^^^^^^^^^^^\n",
            "  File \"/usr/local/lib/python3.12/dist-packages/mlflow/store/tracking/file_store.py\", line 1634, in _read_yaml\n",
            "    return _read_helper(root, file_name, attempts_remaining=retries)\n",
            "           ^^^^^^^^^^^^^^^^^^^^^^^^^^^^^^^^^^^^^^^^^^^^^^^^^^^^^^^^^\n",
            "  File \"/usr/local/lib/python3.12/dist-packages/mlflow/store/tracking/file_store.py\", line 1627, in _read_helper\n",
            "    result = read_yaml(root, file_name)\n",
            "             ^^^^^^^^^^^^^^^^^^^^^^^^^^\n",
            "  File \"/usr/local/lib/python3.12/dist-packages/mlflow/utils/yaml_utils.py\", line 107, in read_yaml\n",
            "    raise MissingConfigException(f\"Yaml file '{file_path}' does not exist.\")\n",
            "mlflow.exceptions.MissingConfigException: Yaml file '/content/drive/MyDrive/mlflow_results/mlruns/meta.yaml' does not exist.\n"
          ]
        },
        {
          "output_type": "stream",
          "name": "stdout",
          "text": [
            "MLflow is now set to use the experiment: 'baseline_xgb_vs_hypertuned_xgb'\n",
            "Experiment ID: 757717366182502457\n",
            "Artifact location: file:///content/drive/My Drive/mlflow_results/757717366182502457\n"
          ]
        }
      ],
      "source": [
        "# Mount Google Drive to save results\n",
        "drive.mount('/content/drive')\n",
        "\n",
        "# Define the MLflow storage path in Google Drive\n",
        "mlflow_storage_path = \"/content/drive/MyDrive/mlflow_results\"\n",
        "\n",
        "# Set MLflow to log to the Google Drive directory\n",
        "mlflow.set_tracking_uri(f\"file:{mlflow_storage_path}\")\n",
        "\n",
        "# Set the experiment name *before* starting any runs.\n",
        "# This ensures both models are logged to the same experiment.\n",
        "# We will create it if it doesn't already exist.\n",
        "experiment_name = \"baseline_xgb_vs_hypertuned_xgb\"\n",
        "mlflow.set_experiment(experiment_name)\n",
        "\n",
        "print(f\"MLflow is now set to use the experiment: '{experiment_name}'\")\n",
        "# Get and print the details of the active experiment to confirm\n",
        "experiment_details = mlflow.get_experiment_by_name(experiment_name)\n",
        "if experiment_details:\n",
        "    print(f\"Experiment ID: {experiment_details.experiment_id}\")\n",
        "    print(f\"Artifact location: {experiment_details.artifact_location}\")\n",
        "else:\n",
        "    print(\"Warning: Could not find the newly set experiment.\")\n"
      ]
    },
    {
      "cell_type": "code",
      "execution_count": 38,
      "metadata": {
        "colab": {
          "base_uri": "https://localhost:8080/",
          "height": 553
        },
        "id": "kiLbquE3jKX-",
        "outputId": "96170973-a965-4934-daa9-f264955f492c"
      },
      "outputs": [
        {
          "output_type": "display_data",
          "data": {
            "text/plain": [
              "<Figure size 640x480 with 0 Axes>"
            ]
          },
          "metadata": {}
        },
        {
          "output_type": "display_data",
          "data": {
            "text/plain": [
              "<Figure size 1500x600 with 1 Axes>"
            ],
            "image/png": "[encoded data removed]"
          },
          "metadata": {}
        },
        {
          "output_type": "stream",
          "name": "stderr",
          "text": [
            "2025/08/20 09:12:01 WARNING mlflow.models.model: `artifact_path` is deprecated. Please use `name` instead.\n",
            "/usr/local/lib/python3.12/dist-packages/xgboost/sklearn.py:1028: UserWarning: [09:12:02] WARNING: /workspace/src/c_api/c_api.cc:1427: Saving model in the UBJSON format as default.  You can use file extension: `json`, `ubj` or `deprecated` to choose between formats.\n",
            "  self.get_booster().save_model(fname)\n",
            "\u001b[31m2025/08/20 09:12:21 WARNING mlflow.models.model: Model logged without a signature and input example. Please set `input_example` parameter when logging the model to auto infer the model signature.\u001b[0m\n"
          ]
        }
      ],
      "source": [
        "# Save the plot for the baseline model to a file\n",
        "plot_filename_baseline = \"forecast_plot_baseline.png\"\n",
        "# This line displays the plot, and the next line saves it.\n",
        "# plot_single_series_forecast(51, 1466049, baseline_xgb, name='Baseline XGB')\n",
        "# plt.savefig(plot_filename_baseline)\n",
        "# Get hyperparameters from the baseline model\n",
        "baseline_params = baseline_xgb.get_params()\n",
        "\n",
        "# Save the plot to a file\n",
        "#plot_filename = \"forecast_plot_baseline.png\"\n",
        "'''\n",
        "plot_single_series_forecast(51, 1466049, baseline_xgb, name='Baseline XGB')  # display the plot\n",
        "plt.savefig(\"forecast_plot_baseline.png\")  # save it to disk\n",
        "'''\n",
        "fig = plt.figure()\n",
        "plot_single_series_forecast(51, 1466049, baseline_xgb, name=\"Baseline XGB\")\n",
        "\n",
        "# Start MLflow run for the baseline model\n",
        "with mlflow.start_run(run_name=\"XGBoost_Baseline\"):\n",
        "\n",
        "    # 1. Log hyperparameters\n",
        "    #mlflow.log_params(baseline_params)\n",
        "    for k, v in baseline_metrics.items():\n",
        "        mlflow.log_metric(k, float(v))\n",
        "\n",
        "\n",
        "    # 2. Log metrics\n",
        "    mlflow.log_metrics(baseline_metrics)\n",
        "\n",
        "    # 3. Log forecast plot as artifact\n",
        "    '''\n",
        "    mlflow.log_artifact(\"forecast_plot_baseline.png\", artifact_path=\"plots\")\n",
        "    '''\n",
        "    mlflow.log_figure(fig, \"forecast_plot.png\")\n",
        "\n",
        "    # 4. Log the model itself\n",
        "    mlflow.xgboost.log_model(baseline_xgb, \"xgboost-model-baseline\")\n",
        "\n",
        "# The run ends automatically here\n"
      ]
    },
    {
      "cell_type": "markdown",
      "metadata": {
        "id": "vqRlZj5OEAyq"
      },
      "source": [
        "**log the secon run**"
      ]
    },
    {
      "cell_type": "code",
      "execution_count": 39,
      "metadata": {
        "colab": {
          "base_uri": "https://localhost:8080/",
          "height": 553
        },
        "id": "JSqls-zaBcSH",
        "outputId": "33b3bff7-9383-46db-d22c-237723472156"
      },
      "outputs": [
        {
          "output_type": "display_data",
          "data": {
            "text/plain": [
              "<Figure size 640x480 with 0 Axes>"
            ]
          },
          "metadata": {}
        },
        {
          "output_type": "display_data",
          "data": {
            "text/plain": [
              "<Figure size 1500x600 with 1 Axes>"
            ],
            "image/png": "[encoded data removed]"
          },
          "metadata": {}
        },
        {
          "output_type": "stream",
          "name": "stderr",
          "text": [
            "2025/08/20 09:12:26 WARNING mlflow.models.model: `artifact_path` is deprecated. Please use `name` instead.\n",
            "/usr/local/lib/python3.12/dist-packages/xgboost/sklearn.py:1028: UserWarning: [09:12:28] WARNING: /workspace/src/c_api/c_api.cc:1427: Saving model in the UBJSON format as default.  You can use file extension: `json`, `ubj` or `deprecated` to choose between formats.\n",
            "  self.get_booster().save_model(fname)\n",
            "\u001b[31m2025/08/20 09:12:32 WARNING mlflow.models.model: Model logged without a signature and input example. Please set `input_example` parameter when logging the model to auto infer the model signature.\u001b[0m\n"
          ]
        }
      ],
      "source": [
        "# Get the hyperparameters from the tuned model\n",
        "tuned_params = hypertuned_xgb.get_params()\n",
        "\n",
        "# Save the plot for the tuned model to a file\n",
        "plot_filename_tuned = \"forecast_plot_tuned.png\"\n",
        "# This line displays the plot, and the next line saves it.\n",
        "# plot_single_series_forecast(51, 1466049, hypertuned_xgb, name='Hypertuned XGB')\n",
        "# plt.savefig(plot_filename_tuned)\n",
        "\n",
        "# Get the hyperparameters from the tuned model\n",
        "tuned_params = hypertuned_xgb.get_params()\n",
        "\n",
        "# Save the plot to a file\n",
        "#plot_filename = \"forecast_plot_tuned.png\"\n",
        "'''\n",
        "plot_single_series_forecast(51, 1466049, hypertuned_xgb, name='Hypertuned XGB')  # display the plot\n",
        "plt.savefig(\"forecast_plot_tuned.png\")  # save it to disk\n",
        "'''\n",
        "fig = plt.figure()\n",
        "plot_single_series_forecast(51, 1466049, hypertuned_xgb, name=\"Hypertuned XGB\")\n",
        "\n",
        "# Start MLflow run for the tuned model\n",
        "with mlflow.start_run(run_name=\"XGBoost_Tuned\"):\n",
        "\n",
        "    # 1. Log hyperparameters\n",
        "    mlflow.log_params(tuned_params)\n",
        "\n",
        "    # 2. Log metrics\n",
        "    #mlflow.log_metrics(tuned_metrics)\n",
        "    for k, v in tuned_metrics.items():\n",
        "        mlflow.log_metric(k, float(v))\n",
        "\n",
        "\n",
        "    # 3. Log forecast plot as artifact\n",
        "    '''\n",
        "    mlflow.log_artifact(\"forecast_plot_tuned.png\", artifact_path=\"plots\")\n",
        "    '''\n",
        "    mlflow.log_figure(fig, \"forecast_plot.png\")\n",
        "\n",
        "    # 4. Log the model\n",
        "    mlflow.xgboost.log_model(hypertuned_xgb, \"hypertuned_xgb\")\n",
        "\n",
        "# Run ends automatically\n"
      ]
    },
    {
      "cell_type": "code",
      "execution_count": 40,
      "metadata": {
        "colab": {
          "base_uri": "https://localhost:8080/"
        },
        "id": "ORH2VIXWyDGD",
        "outputId": "2b8af025-a4b5-4f81-e590-db6ecb5f80ab"
      },
      "outputs": [
        {
          "output_type": "stream",
          "name": "stdout",
          "text": [
            "^C\n",
            "^C\n"
          ]
        }
      ],
      "source": [
        "# Kill any old MLflow UI & ngrok\n",
        "!pkill -f mlflow || echo \"No MLflow UI running\"\n",
        "!pkill -f ngrok || echo \"No ngrok process\""
      ]
    },
    {
      "cell_type": "code",
      "execution_count": 41,
      "metadata": {
        "colab": {
          "base_uri": "https://localhost:8080/"
        },
        "id": "JRD6ty8jyGyA",
        "outputId": "97e85dbe-57c8-4e66-8da8-786db2466891"
      },
      "outputs": [
        {
          "output_type": "stream",
          "name": "stdout",
          "text": [
            "MLflow UI server started in the background. Waiting a few seconds for it to get ready...\n"
          ]
        }
      ],
      "source": [
        "# NOTE: The change is here! We explicitly tell the UI where the runs are located.\n",
        "# The --backend-store-uri flag points the UI to your Google Drive folder.\n",
        "# The path is now enclosed in double quotes to handle the space in \"My Drive\".\n",
        "!mlflow ui --port 5000 --host 0.0.0.0 --backend-store-uri \"file:/content/drive/MyDrive/mlflow_results\" > mlflow.log 2>&1 &\n",
        "print(\"MLflow UI server started in the background. Waiting a few seconds for it to get ready...\")\n",
        "time.sleep(5) # Wait for the server to spin up"
      ]
    },
    {
      "cell_type": "code",
      "execution_count": 42,
      "metadata": {
        "colab": {
          "base_uri": "https://localhost:8080/"
        },
        "id": "4j1hagQ6yS4e",
        "outputId": "61fe6861-0f85-40fe-fa75-72da60b21861"
      },
      "outputs": [
        {
          "output_type": "stream",
          "name": "stdout",
          "text": [
            "Enter your authtoken, which can be copied from https://dashboard.ngrok.com/get-started/your-authtoken\n",
            "··········\n",
            " * ngrok tunnel (URL for MLflow UI): https://0eec1a98be77.ngrok-free.app\n"
          ]
        }
      ],
      "source": [
        "# Run this cell last to get the link to view your results.\n",
        "\n",
        "print(\"Enter your authtoken, which can be copied from https://dashboard.ngrok.com/get-started/your-authtoken\")\n",
        "conf.get_default().auth_token = getpass.getpass()\n",
        "\n",
        "# Start a new tunnel\n",
        "port = 5000\n",
        "public_url = ngrok.connect(port).public_url\n",
        "print(f' * ngrok tunnel (URL for MLflow UI): {public_url}')"
      ]
    },
    {
      "cell_type": "markdown",
      "source": [
        "#**save**"
      ],
      "metadata": {
        "id": "bMfx035hfZxT"
      }
    },
    {
      "cell_type": "code",
      "execution_count": 43,
      "metadata": {
        "colab": {
          "base_uri": "https://localhost:8080/"
        },
        "id": "R24IwfWVGu8p",
        "outputId": "38efdd9c-71c4-4d89-829a-d5f8bd5d786e"
      },
      "outputs": [
        {
          "output_type": "stream",
          "name": "stdout",
          "text": [
            "Preprocessing artifacts saved to Google Drive: feature_columns.pkl\n"
          ]
        }
      ],
      "source": [
        "# 1. Save the feature columns you used\n",
        "feature_columns = X_train.columns.tolist()\n",
        "\n",
        "# Save directly to Google Drive\n",
        "joblib.dump(feature_columns, \"/content/drive/MyDrive/favorita/feature_columns.pkl\")\n",
        "joblib.dump(hypertuned_xgb, '/content/drive/MyDrive/favorita/tuned_xgb_model.pkl')\n",
        "joblib.dump(baseline_xgb, '/content/drive/MyDrive/favorita/baseline_xgb_model.pkl')\n",
        "\n",
        "print(\"Preprocessing artifacts saved to Google Drive: feature_columns.pkl\")\n",
        "\n",
        "\n",
        "\n",
        "\n",
        "# 2\n",
        "df_clean.to_csv('/content/drive/MyDrive/xbg_df.csv')\n",
        "\n",
        "\n",
        "#3\n",
        "df.to_pickle('/content/drive/MyDrive/xgb_demand_forecast_model.pkl')"
      ]
    }
  ],
  "metadata": {
    "colab": {
      "collapsed_sections": [
        "elpYoZRD4xgP",
        "cWpmGqCk8VLF",
        "TZnQib7w8vx_",
        "aEiMOv20JN5J",
        "g3XlVRVr75Sd",
        "bqLlD9VPzJiP",
        "llgVRc4LQDuP",
        "RtOEZTofP9Oj"
      ],
      "provenance": [],
      "authorship_tag": "ABX9TyOUjoL+lLONgH+izCWkhAda",
      "include_colab_link": true
    },
    "kernelspec": {
      "display_name": "Python 3",
      "name": "python3"
    },
    "language_info": {
      "name": "python"
    }
  },
  "nbformat": 4,
  "nbformat_minor": 0
}